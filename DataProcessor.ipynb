{
 "cells": [
  {
   "cell_type": "markdown",
   "metadata": {},
   "source": [
    "# kkma 특성 \n",
    "\n",
    "sentences 구분해주는데 string 말뭉치만 취급함\n",
    "pos 구분해주는데 \n",
    "<ul>\n",
    "<li> punctuation mark 따로 두고</li>\n",
    "<li> 어미 조사 뺌 <li>\n",
    "</ul>\n",
    "\n",
    "word 단계로 끊는 과정은 그냥 쌩으로 생략됨 \n",
    "\n",
    "자바로 만들어져있는데 \n",
    "word 위치 알려주는 것 추가... 해주거나\n",
    "\n",
    "아니면 split()함수로 구분한 뒤 \n",
    "punctuation mark 구분한 뒤<br>\n",
    "매 단어마다 pos 해서 개수 확인<br>\n",
    " --> 문단을 overview하며 토큰마다 어떤 단어랑 링크되는지 확인 \n",
    " --> 그 단어의 sentence 내 위치 확인\n",
    " --> 그 sentence의 문단 내 위치 확인\n",
    "\n",
    " 을 거듭하면 됌"
   ]
  },
  {
   "cell_type": "code",
   "execution_count": null,
   "metadata": {},
   "outputs": [],
   "source": []
  }
 ],
 "metadata": {
  "language_info": {
   "name": "python"
  },
  "orig_nbformat": 4
 },
 "nbformat": 4,
 "nbformat_minor": 2
}
