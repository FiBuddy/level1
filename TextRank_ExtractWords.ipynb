{
 "cells": [
  {
   "cell_type": "markdown",
   "metadata": {},
   "source": [
    "<h1> 기본 텍스트 랭크 작성- 단어 추출</h1>\n",
    "<ul>\n",
    "\t<li>unordered</li>\n",
    "\t<li>undirected</li>\n",
    "\t<li>window=5</li>\n",
    "\t<li>co-occurrence based</li>\n",
    "</ul>"
   ]
  },
  {
   "cell_type": "code",
   "execution_count": 5,
   "metadata": {},
   "outputs": [],
   "source": [
    "import os\n",
    "import json\n"
   ]
  },
  {
   "cell_type": "code",
   "execution_count": 12,
   "metadata": {},
   "outputs": [
    {
     "name": "stdout",
     "output_type": "stream",
     "text": [
      "CNTS-00047965957_40_41-0.json\n",
      "{'passage_id': 'CNTS-00047965957_40_41-0', 'metadata': {'doc_id': 'CNTS-00047965957', 'doc_type': '도서', 'doc_name': '후진타오 시대의 중국정치', 'author': '조영남', 'publisher': '나남출판', 'published_year': '2006', 'kdc_label': '정치학', 'kdc_code': '340'}, 'chapter': '1부 중국정치개혁의 성과와 모색 1장 정치개혁의 성과와 과제', 'passage': ' 선거개혁도 유사한 문제가 있다. 유권자들은 1979년 현급 지방인대 직접선거 개혁 –제한적 경쟁선거의 도입, 유권자의 후보추천권 보장 – 이후 좀 더 적극적이고 능동적으로 선거에 참여한다. 그래서 1990년대에 들어 직접선거는 정치교육과 사회화를 통해 국민의 정권에 대한 정통성과 수용성을 높이려는 공산당의 동원수단에서 벗어나 점차로 국민의 의지와 요구를 실현하는 수단으로 발전하였다. 그렇지만 중국의 모든 선거는 공산당 일당지배 체제하에 진행된다는 근본적 한계 외에도, 성급 지방인대 대표와 전국인대 대표선거는 여전히 간접선거로 실시되고 있으며, 중앙정부는 말할 것도 없고 지방정부 수장들도 모두 의회에서 간접선거로 선출된다는 문제점이 있다. 이 때문에 선거를 통한 국민의 정치참여 확대도 전보다 나아지기는 했지만 여전히 많은 한계를 갖는다.', 'summary': ' 1979년 지방인대 직접선거 개혁이후 유권자들은 적극적이고 능동적으로 선거에 참여했다. 1990년대에 직접선거는 공산당의 동원수단에서 벗어나 국민의 의지와 요구를 실현하는 수단으로 발전했지만 여전히 문제점과 한계를 가졌다.'}\n"
     ]
    }
   ],
   "source": [
    "#test code\n",
    "\n",
    "#path 만들기\n",
    "dir=\"./2020-02-019.도서자료요약_Sample\"\n",
    "sample_file=os.listdir(\"./2020-02-019.도서자료요약_Sample\")[0]\n",
    "path=dir+\"/\"+sample_file \n",
    "#file descriptor 생성하고 내용 읽어내기\n",
    "fstr=open(path,encoding='utf-8').read()\n",
    "print(sample_file)\n",
    "#json decode 하기\n",
    "sample_json=json.loads(fstr)\n",
    "print(sample_json)"
   ]
  },
  {
   "cell_type": "code",
   "execution_count": 15,
   "metadata": {},
   "outputs": [],
   "source": [
    "#Set example text\n",
    "\n",
    "\n",
    "#1) open json file\n",
    "## get path\n",
    "## get file descriptor\n",
    "## get str\n",
    "\n",
    "dir= \"./2020-02-019.도서자료요약_Sample\"\n",
    "jsonfd=[]\n",
    "jsonstr=[]\n",
    "for file in os.listdir(dir):\n",
    "    jsonfd.append(open(dir+\"/\"+file, encoding=\"utf-8\"))\n",
    "    jsonstr.append(jsonfd[-1].read())\n",
    "\n",
    "#2) select passages and summaries\n",
    "jsonobj=[]\n",
    "count=0\n",
    "id={}\n",
    "passage={}\n",
    "summary={}\n",
    "for file in jsonstr:\n",
    "    obj=json.loads(file)\n",
    "    jsonobj.append(obj)\n",
    "    id[count]=obj[\"passage_id\"]\n",
    "    passage[count]=obj[\"passage\"]\n",
    "    summary[count]=obj[\"summary\"]\n"
   ]
  },
  {
   "cell_type": "code",
   "execution_count": 16,
   "metadata": {},
   "outputs": [
    {
     "name": "stdout",
     "output_type": "stream",
     "text": [
      "Length check True \n",
      "First set\n",
      " \t\tPassage 유럽연합의 경우 작년 12월 11일 ‘유럽 그린 딜(European Green Deal)’이라는 명칭 하에 ▲친환경, 순환 경제로의 이행을 통한 자원의 효율적 사용, ▲생물다양성의 회복 및 환경오염 감소를 목표로 친환경 기술에 대한 투자, ▲에너지부문에서의 탈탄소화, ▲건축물 에너지 효율 향상 등을 위해 대규모 투자를 통한 지속가능발전 전략을 발표하였다. 또한 올해 4월 17일 유럽의회도 결의 채택을 통해 코로나19 팬데믹 이후 경제회복 프로그램에 ‘유럽그린 딜’을 포함할 것을 촉구한 바 있다. 한편 미국의 경우는 작년 2월 7일 화석연료 사용 제한과 온실가스 배출 저감 및 청정에너지 산업에의 투자를 통한 고소득 일자리 창출 등 경제위기 극복을 위한 방안으로서 ‘그린 뉴딜’ 결의안이 하원에서 제출되기도 하였다. 이처럼 주요 국가들의 관심이 ‘그린 뉴딜’에 집중되고 있으므로, 이의 실행을 위한 국제적 협의 및 전략구상이 하반기부터 본격적으로 이루어질 것으로 전망된다. \n",
      "\t\tSummary EU는 작년 12월 효율적 자원 사용·친환경 기술 투자·에너지부문 탈탄소화·건축물 에너지 효율 향상 위한 '유럽그린 딜'을 발표했다. 의회도 올 4월 이를 촉구했고, 미국도 작년 2월 결의안을 제출했다. 이를 위한 국제 협의는 하반기부터 이뤄진다.\n"
     ]
    }
   ],
   "source": [
    "print(\"Length check\",len(passage)==len(summary),\"\\nFirst set\\n\",\"\\t\\tPassage\",passage[0],\"\\n\\t\\tSummary\",summary[0])"
   ]
  },
  {
   "cell_type": "code",
   "execution_count": 18,
   "metadata": {},
   "outputs": [],
   "source": [
    "#Tokenize text\n",
    "from konlpy.tag import Kkma \n",
    "from konlpy.utils import pprint \n"
   ]
  },
  {
   "cell_type": "code",
   "execution_count": 19,
   "metadata": {},
   "outputs": [
    {
     "name": "stdout",
     "output_type": "stream",
     "text": [
      "['유럽연합의 경우 작년 12월 11일 ‘ 유럽 그린 딜 (European Green Deal)’ 이라는 명칭 하에 ▲ 친환경, 순환 '\n",
      " '경제로의 이행을 통한 자원의 효율적 사용, ▲ 생물 다양성의 회복 및 환경오염 감소를 목표로 친 환경 기술에 대한 투자, ▲ '\n",
      " '에너지부문에서의 탈 탄소화, ▲ 건축물 에너지 효율 향상 등을 위해 대규모 투자를 통한 지속가능 발전 전략을 발표하였다.',\n",
      " '또 한 올해 4월 17일 유럽의회도 결의 채택을 통해 코로나 19 팬 데 믹 이후 경제회복 프로그램에 ‘ 유럽 그린 딜’ 을 포함할 것을 '\n",
      " '촉구한 바 있다.',\n",
      " '한 편 미국의 경우는 작년 2월 7일 화석 연료 사용 제한과 온실가스 배출 저감 및 청정 에너지 산업에의 투자를 통한 고소득 일자리 창출 '\n",
      " '등 경제위기 극복을 위한 방안으로서 ‘ 그린 뉴딜’ 결의 안이 하원에서 제출되기도 하였다.',\n",
      " '이처럼 주요 국가들의 관심이 ‘ 그린 뉴딜 ’에 집중되고 있으므로, 이의 실행을 위한 국제적 협의 및 전략 구상이 하반기부터 본격적으로 '\n",
      " '이루어질 것으로 전망된다.']\n"
     ]
    }
   ],
   "source": [
    "\n",
    "#품사 태깅하기\n",
    "kkma=Kkma()\n",
    "pprint(kkma.sentences(passage[0]))"
   ]
  },
  {
   "cell_type": "code",
   "execution_count": null,
   "metadata": {},
   "outputs": [],
   "source": [
    "#Pre-process text : 특정 품사 제거, 불용어 제거"
   ]
  },
  {
   "cell_type": "code",
   "execution_count": null,
   "metadata": {},
   "outputs": [],
   "source": [
    "#Edge generation: window=5"
   ]
  },
  {
   "cell_type": "code",
   "execution_count": null,
   "metadata": {},
   "outputs": [],
   "source": [
    "#Calculate Importance Score\n",
    "\n",
    "#1) set S_i=k \n",
    "\n",
    "#2) get k"
   ]
  },
  {
   "cell_type": "code",
   "execution_count": null,
   "metadata": {},
   "outputs": [],
   "source": [
    "#Get result"
   ]
  },
  {
   "cell_type": "markdown",
   "metadata": {},
   "source": [
    "<h3>결과 평가</h3>\n",
    "\n",
    "데이터셋은 passage인자와 summary인자가 있다.\n",
    "\n",
    "<h4> 답안지 만들기 </h4>\n",
    "<ol>\n",
    "\t<li>각자를 토큰화한 것을 비교해 summary 속의 단어 토큰 중 passage의 것과 같았던 것을 간추린다. </li>\n",
    "\t<li>passage의 인자 중 일반명사는 중요도를 절반으로 선정한다. </li>\n",
    "</ol>\n",
    "\n",
    "<h4> F-feature 계산하기</h4>\n",
    "<ol>\n",
    "\t<li>Precision을 구한다 : |교집합|/|TR 결과|</ol>\n",
    "\t<li>Recall을 구한다: |교집합|/|답안지|</ol>\n",
    "\t<li>F-feature을 구한다: 2*P*R/(P+R)</ol>\n",
    "</ol>\n",
    "\n"
   ]
  },
  {
   "cell_type": "code",
   "execution_count": null,
   "metadata": {},
   "outputs": [],
   "source": [
    "#Compare results"
   ]
  }
 ],
 "metadata": {
  "interpreter": {
   "hash": "b5065fce0c556be340c30aff3e8f750212a18ed8a8d4d7aff9a4ff1201288b98"
  },
  "kernelspec": {
   "display_name": "Python 3.9.6 64-bit",
   "language": "python",
   "name": "python3"
  },
  "language_info": {
   "codemirror_mode": {
    "name": "ipython",
    "version": 3
   },
   "file_extension": ".py",
   "mimetype": "text/x-python",
   "name": "python",
   "nbconvert_exporter": "python",
   "pygments_lexer": "ipython3",
   "version": "3.9.6"
  },
  "orig_nbformat": 4
 },
 "nbformat": 4,
 "nbformat_minor": 2
}
