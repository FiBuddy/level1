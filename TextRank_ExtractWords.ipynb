{
 "cells": [
  {
   "cell_type": "markdown",
   "metadata": {},
   "source": [
    "<h1> 기본 텍스트 랭크 작성- 단어 추출</h1>\n",
    "<ul>\n",
    "\t<li>unordered</li>\n",
    "\t<li>undirected</li>\n",
    "\t<li>window=5</li>\n",
    "\t<li>co-occurrence based</li>\n",
    "</ul>"
   ]
  },
  {
   "cell_type": "code",
   "execution_count": 1,
   "metadata": {},
   "outputs": [],
   "source": [
    "import os\n",
    "import json"
   ]
  },
  {
   "cell_type": "code",
   "execution_count": 2,
   "metadata": {},
   "outputs": [
    {
     "name": "stdout",
     "output_type": "stream",
     "text": [
      "CNTS-00047965957_40_41-0.json\n",
      "{'passage_id': 'CNTS-00047965957_40_41-0', 'metadata': {'doc_id': 'CNTS-00047965957', 'doc_type': '도서', 'doc_name': '후진타오 시대의 중국정치', 'author': '조영남', 'publisher': '나남출판', 'published_year': '2006', 'kdc_label': '정치학', 'kdc_code': '340'}, 'chapter': '1부 중국정치개혁의 성과와 모색 1장 정치개혁의 성과와 과제', 'passage': ' 선거개혁도 유사한 문제가 있다. 유권자들은 1979년 현급 지방인대 직접선거 개혁 –제한적 경쟁선거의 도입, 유권자의 후보추천권 보장 – 이후 좀 더 적극적이고 능동적으로 선거에 참여한다. 그래서 1990년대에 들어 직접선거는 정치교육과 사회화를 통해 국민의 정권에 대한 정통성과 수용성을 높이려는 공산당의 동원수단에서 벗어나 점차로 국민의 의지와 요구를 실현하는 수단으로 발전하였다. 그렇지만 중국의 모든 선거는 공산당 일당지배 체제하에 진행된다는 근본적 한계 외에도, 성급 지방인대 대표와 전국인대 대표선거는 여전히 간접선거로 실시되고 있으며, 중앙정부는 말할 것도 없고 지방정부 수장들도 모두 의회에서 간접선거로 선출된다는 문제점이 있다. 이 때문에 선거를 통한 국민의 정치참여 확대도 전보다 나아지기는 했지만 여전히 많은 한계를 갖는다.', 'summary': ' 1979년 지방인대 직접선거 개혁이후 유권자들은 적극적이고 능동적으로 선거에 참여했다. 1990년대에 직접선거는 공산당의 동원수단에서 벗어나 국민의 의지와 요구를 실현하는 수단으로 발전했지만 여전히 문제점과 한계를 가졌다.'}\n"
     ]
    }
   ],
   "source": [
    "#test code\n",
    "\n",
    "#path 만들기\n",
    "dir=\"./2020-02-019.도서자료요약_Sample\"\n",
    "sample_file=os.listdir(\"./2020-02-019.도서자료요약_Sample\")[0]\n",
    "path=dir+\"/\"+sample_file \n",
    "#file descriptor 생성하고 내용 읽어내기\n",
    "fstr=open(path,encoding='utf-8').read()\n",
    "print(sample_file)\n",
    "#json decode 하기\n",
    "sample_json=json.loads(fstr)\n",
    "print(sample_json)"
   ]
  },
  {
   "cell_type": "code",
   "execution_count": 3,
   "metadata": {},
   "outputs": [],
   "source": [
    "#Set example text\n",
    "\n",
    "\n",
    "#1) open json file\n",
    "## get path\n",
    "## get file descriptor\n",
    "## get str\n",
    "\n",
    "dir= \"./2020-02-019.도서자료요약_Sample\"\n",
    "jsonfd=[]\n",
    "jsonstr=[]\n",
    "for file in os.listdir(dir):\n",
    "    jsonfd.append(open(dir+\"/\"+file, encoding=\"utf-8\"))\n",
    "    jsonstr.append(jsonfd[-1].read())\n",
    "\n",
    "#2) select passages and summaries\n",
    "jsonobj=[]\n",
    "count=0\n",
    "id={}\n",
    "passage={}\n",
    "summary={}\n",
    "for file in jsonstr:\n",
    "    obj=json.loads(file)\n",
    "    jsonobj.append(obj)\n",
    "    id[count]=obj[\"passage_id\"]\n",
    "    passage[count]=obj[\"passage\"]\n",
    "    summary[count]=obj[\"summary\"]\n"
   ]
  },
  {
   "cell_type": "code",
   "execution_count": 4,
   "metadata": {},
   "outputs": [
    {
     "name": "stdout",
     "output_type": "stream",
     "text": [
      "Length check True \n",
      "First set\n",
      " \t\tPassage 유럽연합의 경우 작년 12월 11일 ‘유럽 그린 딜(European Green Deal)’이라는 명칭 하에 ▲친환경, 순환 경제로의 이행을 통한 자원의 효율적 사용, ▲생물다양성의 회복 및 환경오염 감소를 목표로 친환경 기술에 대한 투자, ▲에너지부문에서의 탈탄소화, ▲건축물 에너지 효율 향상 등을 위해 대규모 투자를 통한 지속가능발전 전략을 발표하였다. 또한 올해 4월 17일 유럽의회도 결의 채택을 통해 코로나19 팬데믹 이후 경제회복 프로그램에 ‘유럽그린 딜’을 포함할 것을 촉구한 바 있다. 한편 미국의 경우는 작년 2월 7일 화석연료 사용 제한과 온실가스 배출 저감 및 청정에너지 산업에의 투자를 통한 고소득 일자리 창출 등 경제위기 극복을 위한 방안으로서 ‘그린 뉴딜’ 결의안이 하원에서 제출되기도 하였다. 이처럼 주요 국가들의 관심이 ‘그린 뉴딜’에 집중되고 있으므로, 이의 실행을 위한 국제적 협의 및 전략구상이 하반기부터 본격적으로 이루어질 것으로 전망된다. \n",
      "\t\tSummary EU는 작년 12월 효율적 자원 사용·친환경 기술 투자·에너지부문 탈탄소화·건축물 에너지 효율 향상 위한 '유럽그린 딜'을 발표했다. 의회도 올 4월 이를 촉구했고, 미국도 작년 2월 결의안을 제출했다. 이를 위한 국제 협의는 하반기부터 이뤄진다.\n"
     ]
    }
   ],
   "source": [
    "print(\"Length check\",len(passage)==len(summary),\"\\nFirst set\\n\",\"\\t\\tPassage\",passage[0],\"\\n\\t\\tSummary\",summary[0])"
   ]
  },
  {
   "cell_type": "code",
   "execution_count": 5,
   "metadata": {},
   "outputs": [],
   "source": [
    "#Tokenize text\n",
    "from konlpy.tag import Kkma \n",
    "from konlpy.utils import pprint \n"
   ]
  },
  {
   "cell_type": "code",
   "execution_count": 25,
   "metadata": {},
   "outputs": [
    {
     "name": "stdout",
     "output_type": "stream",
     "text": [
      "<class 'list'>\n"
     ]
    }
   ],
   "source": [
    "#품사 태깅하기\n",
    "kkma=Kkma()\n",
    "test=kkma.pos(passage[0])\n",
    "pprint(type(test))"
   ]
  },
  {
   "cell_type": "code",
   "execution_count": 11,
   "metadata": {},
   "outputs": [
    {
     "data": {
      "text/plain": [
       "{0: '유럽연합의 경우 작년 12월 11일 ‘유럽 그린 딜(European Green Deal)’이라는 명칭 하에 ▲친환경, 순환 경제로의 이행을 통한 자원의 효율적 사용, ▲생물다양성의 회복 및 환경오염 감소를 목표로 친환경 기술에 대한 투자, ▲에너지부문에서의 탈탄소화, ▲건축물 에너지 효율 향상 등을 위해 대규모 투자를 통한 지속가능발전 전략을 발표하였다. 또한 올해 4월 17일 유럽의회도 결의 채택을 통해 코로나19 팬데믹 이후 경제회복 프로그램에 ‘유럽그린 딜’을 포함할 것을 촉구한 바 있다. 한편 미국의 경우는 작년 2월 7일 화석연료 사용 제한과 온실가스 배출 저감 및 청정에너지 산업에의 투자를 통한 고소득 일자리 창출 등 경제위기 극복을 위한 방안으로서 ‘그린 뉴딜’ 결의안이 하원에서 제출되기도 하였다. 이처럼 주요 국가들의 관심이 ‘그린 뉴딜’에 집중되고 있으므로, 이의 실행을 위한 국제적 협의 및 전략구상이 하반기부터 본격적으로 이루어질 것으로 전망된다.'}"
      ]
     },
     "execution_count": 11,
     "metadata": {},
     "output_type": "execute_result"
    }
   ],
   "source": [
    "passage"
   ]
  },
  {
   "cell_type": "markdown",
   "metadata": {},
   "source": [
    "### 현 문제점 ###\n",
    "kkma의 pos()는 품사를 나눠주기 때문에 한 단어도 여러 개로 쪼개진다.\n",
    "따라서 의미 있는 NNG, NP, VV 튜플을 필터링 할 때 pos()으로 반환되는 리스트 안에서의 인덱스가\n",
    "문장 내에서 위치를 의미하지 않는다. \n",
    "문장 내에서 위치/소속 단어를 분별할 방법이 필요하다. \n",
    "\n",
    "일단은 TextRank만 시도해본다는 점에서 굳이 포함하지 않겠다. "
   ]
  },
  {
   "cell_type": "markdown",
   "metadata": {},
   "source": [
    "**Konlpy에서 사용자 정의 dictionary 생성하기**\n",
    "\n",
    "기본적으로 kkma는 dictionary이다.\n",
    "따라서 포함되지 않는 단어는 품사 태깅을 해줄 수 없다.\n",
    "필연적으로 더 큰 규모의 단어 삽입이 필요하다. "
   ]
  },
  {
   "cell_type": "code",
   "execution_count": 41,
   "metadata": {},
   "outputs": [
    {
     "name": "stdout",
     "output_type": "stream",
     "text": [
      "<class 'list'>\n",
      "0 th loop\t ('12', 'NR')\n",
      "0 th loop\t ('11', 'NR')\n",
      "0 th loop\t ('(', 'SS')\n",
      "0 th loop\t ('Green', 'OL')\n",
      "0 th loop\t (')', 'SS')\n",
      "0 th loop\t ('라는', 'ETD')\n",
      "0 th loop\t ('에', 'JKM')\n",
      "0 th loop\t (',', 'SP')\n",
      "0 th loop\t ('의', 'JKG')\n",
      "0 th loop\t (',', 'SP')\n",
      "0 th loop\t (',', 'SP')\n",
      "0 th loop\t ('의', 'JKG')\n",
      "0 th loop\t ('화', 'XSN')\n",
      "0 th loop\t ('▲', 'SW')\n",
      "0 th loop\t ('등', 'NNB')\n",
      "0 th loop\t ('였', 'EPT')\n",
      "0 th loop\t ('4', 'NR')\n",
      "0 th loop\t ('17', 'NR')\n",
      "0 th loop\t ('19', 'NR')\n",
      "0 th loop\t ('데', 'NNB')\n",
      "0 th loop\t ('‘', 'SS')\n",
      "0 th loop\t ('’', 'SS')\n",
      "0 th loop\t ('ㄹ', 'ETD')\n",
      "0 th loop\t ('ㄴ', 'ETD')\n",
      "0 th loop\t ('.', 'SF')\n",
      "0 th loop\t ('미국', 'NNP')\n",
      "0 th loop\t ('2', 'NR')\n",
      "0 th loop\t ('7', 'NR')\n",
      "0 th loop\t ('의', 'JKG')\n",
      "0 th loop\t ('등', 'NNB')\n",
      "0 th loop\t ('으로서', 'JKM')\n",
      "0 th loop\t ('ㄴ', 'ETD')\n",
      "0 th loop\t ('’', 'SS')\n",
      "0 th loop\t ('기', 'ETN')\n",
      "0 th loop\t ('다', 'EFN')\n",
      "0 th loop\t ('이처럼', 'MAG')\n",
      "0 th loop\t ('의', 'JKG')\n",
      "0 th loop\t ('‘', 'SS')\n",
      "0 th loop\t ('’', 'SS')\n",
      "0 th loop\t ('고', 'ECE')\n",
      "0 th loop\t (',', 'SP')\n",
      "0 th loop\t ('것', 'NNB')\n",
      "0 th loop\t ('ㄴ다', 'EFN')\n",
      "1 th loop\t ('월', 'NNM')\n",
      "1 th loop\t ('European', 'OL')\n",
      "1 th loop\t ('’', 'SS')\n",
      "1 th loop\t ('▲', 'SW')\n",
      "1 th loop\t ('▲', 'SW')\n",
      "1 th loop\t ('▲', 'SW')\n",
      "1 th loop\t (',', 'SP')\n",
      "1 th loop\t ('.', 'SF')\n",
      "1 th loop\t ('월', 'NNM')\n",
      "1 th loop\t ('믹', 'UN')\n",
      "1 th loop\t ('을', 'JKO')\n",
      "1 th loop\t ('ㄴ', 'ETD')\n",
      "1 th loop\t ('월', 'NNM')\n",
      "1 th loop\t ('‘', 'SS')\n",
      "1 th loop\t ('하', 'VX')\n",
      "1 th loop\t ('ㄴ', 'ETD')\n",
      "1 th loop\t ('으므로', 'ECD')\n",
      "1 th loop\t ('.', 'SF')\n",
      "2 th loop\t ('‘', 'SS')\n",
      "2 th loop\t ('Deal', 'OL')\n",
      "2 th loop\t ('.', 'SF')\n"
     ]
    }
   ],
   "source": [
    "#Pre-process text : 특정 품사 제거, 불용어 제거 - without pandas\n",
    "\n",
    "#1) check the positions of each word\n",
    "#2) only include NNG and VV\n",
    "#3) filter stopwords\n",
    "\n",
    "#delete stopwords\n",
    "f=open(\"stopwords.txt\",encoding=\"utf-8\")\n",
    "stopwords=kkma.pos(f.read())\n",
    "\n",
    "#new passage object with words-->words & PoS tuples / only NNG, VV\n",
    "passage_w_pos={}\n",
    "\n",
    "for index,content in passage.items():\n",
    "    \n",
    "    content_w_pos=kkma.pos(content)\n",
    "    if index==0:\n",
    "        print(type(content_w_pos))\n",
    "    for i,word in enumerate(content_w_pos):\n",
    "        if word in stopwords:\n",
    "            content_w_pos.pop(i)\n",
    "            \n",
    "    #double check\n",
    "    for k in range(5):\n",
    "        for i, word in enumerate(content_w_pos):\n",
    "            if word[1] not in ['NNG','VV']:\n",
    "                print(k,\"th loop\\t\",content_w_pos.pop(i))\n",
    "    passage_w_pos[index]=content_w_pos\n",
    "    \n"
   ]
  },
  {
   "cell_type": "code",
   "execution_count": 58,
   "metadata": {},
   "outputs": [
    {
     "name": "stdout",
     "output_type": "stream",
     "text": [
      "    vocab  pos\n",
      "0      유럽  NNG\n",
      "1      연합  NNG\n",
      "3      경우  NNG\n",
      "4      작년  NNG\n",
      "10     유럽  NNG\n",
      "..    ...  ...\n",
      "229    구상  NNG\n",
      "231   하반기  NNG\n",
      "233   본격적  NNG\n",
      "235  이루어지   VV\n",
      "239    전망  NNG\n",
      "\n",
      "[104 rows x 2 columns]\n"
     ]
    }
   ],
   "source": [
    "#Pre-process text : 특정 품사 제거, 불용어 제거 -with Pandas\n",
    "import pandas as pd\n",
    "#1) check the positions of each word\n",
    "#2) only include NNG and VV\n",
    "#3) filter stopwords\n",
    "\n",
    "#get stopwords\n",
    "f=open(\"stopwords.txt\",encoding=\"utf-8\")\n",
    "stopwords=pd.DataFrame(kkma.pos(f.read()),columns=['vocab','pos'])\n",
    "\n",
    "#new passage object with words-->words & PoS tuples / only NNG, VV\n",
    "passage_w_pos={}\n",
    "\n",
    "for index,content in passage.items():\n",
    "    \n",
    "    #dataframe으로 변경\n",
    "    content_w_pos=pd.DataFrame(kkma.pos(content),columns=['vocab','pos'])\n",
    "    #품사,stopwords 필터링\n",
    "    content_w_pos=content_w_pos[(content_w_pos.pos=='NNG')|(content_w_pos.pos=='VV')&(~content_w_pos['vocab'].isin(list(stopwords.vocab)))]\n",
    "\n",
    "    #passage_w_pos에 삽입\n",
    "    passage_w_pos[index]=content_w_pos\n",
    "    print(passage_w_pos[0])\n",
    "    \n"
   ]
  },
  {
   "cell_type": "code",
   "execution_count": null,
   "metadata": {},
   "outputs": [],
   "source": [
    "#Edge generation: window=5\n",
    "def generate_edge(passage_w_pos,window=5):\n",
    "\tedge=[]\n",
    "\tfor pas in passage_w_pos.values: #for all passages\n",
    "\t\tfor i in range(1,window+1): #for all window size\n",
    "\t\t\tfor index in range(0,len(pas.index())-i):# for all words in passages\n",
    "\t\t\t\tedge.append((pas[index],pas[index+i]))\n",
    "\treturn edge\n",
    "#count edges\n",
    "def count_edge(edge):\n",
    "    pass\n",
    "#(A,B)=(B,A)\n",
    "def reduce_edge_flips(edge):\n",
    "    pass"
   ]
  },
  {
   "cell_type": "code",
   "execution_count": null,
   "metadata": {},
   "outputs": [],
   "source": [
    "#Calculate Importance Score\n",
    "\n",
    "#1) set S_i=k \n",
    "\n",
    "#2) get k"
   ]
  },
  {
   "cell_type": "code",
   "execution_count": null,
   "metadata": {},
   "outputs": [],
   "source": [
    "#Get result"
   ]
  },
  {
   "cell_type": "markdown",
   "metadata": {},
   "source": [
    "<h3>결과 평가</h3>\n",
    "\n",
    "데이터셋은 passage인자와 summary인자가 있다.\n",
    "\n",
    "<h4> 답안지 만들기 </h4>\n",
    "<ol>\n",
    "\t<li>각자를 토큰화한 것을 비교해 summary 속의 단어 토큰 중 passage의 것과 같았던 것을 간추린다. </li>\n",
    "\t<li>passage의 인자 중 일반명사는 중요도를 절반으로 선정한다. </li>\n",
    "</ol>\n",
    "\n",
    "<h4> F-feature 계산하기</h4>\n",
    "<ol>\n",
    "\t<li>Precision을 구한다 : |교집합|/|TR 결과|</ol>\n",
    "\t<li>Recall을 구한다: |교집합|/|답안지|</ol>\n",
    "\t<li>F-feature을 구한다: 2*P*R/(P+R)</ol>\n",
    "</ol>\n",
    "\n"
   ]
  },
  {
   "cell_type": "code",
   "execution_count": null,
   "metadata": {},
   "outputs": [],
   "source": [
    "#Compare results"
   ]
  }
 ],
 "metadata": {
  "interpreter": {
   "hash": "b5065fce0c556be340c30aff3e8f750212a18ed8a8d4d7aff9a4ff1201288b98"
  },
  "kernelspec": {
   "display_name": "Python 3.9.6 64-bit",
   "language": "python",
   "name": "python3"
  },
  "language_info": {
   "codemirror_mode": {
    "name": "ipython",
    "version": 3
   },
   "file_extension": ".py",
   "mimetype": "text/x-python",
   "name": "python",
   "nbconvert_exporter": "python",
   "pygments_lexer": "ipython3",
   "version": "3.9.6"
  },
  "orig_nbformat": 4
 },
 "nbformat": 4,
 "nbformat_minor": 2
}
