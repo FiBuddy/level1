{
 "cells": [
  {
   "cell_type": "markdown",
   "metadata": {},
   "source": [
    "<h1> 기본 텍스트 랭크 작성- 단어 추출</h1>\n",
    "<ul>\n",
    "\t<li>unordered</li>\n",
    "\t<li>undirected</li>\n",
    "\t<li>window=5</li>\n",
    "\t<li>co-occurrence based</li>\n",
    "</ul>"
   ]
  },
  {
   "cell_type": "code",
   "execution_count": 2,
   "metadata": {},
   "outputs": [],
   "source": [
    "import os\n",
    "import json"
   ]
  },
  {
   "cell_type": "code",
   "execution_count": 3,
   "metadata": {},
   "outputs": [
    {
     "name": "stdout",
     "output_type": "stream",
     "text": [
      "CNTS-00047965957_40_41-0.json\n",
      "{'passage_id': 'CNTS-00047965957_40_41-0', 'metadata': {'doc_id': 'CNTS-00047965957', 'doc_type': '도서', 'doc_name': '후진타오 시대의 중국정치', 'author': '조영남', 'publisher': '나남출판', 'published_year': '2006', 'kdc_label': '정치학', 'kdc_code': '340'}, 'chapter': '1부 중국정치개혁의 성과와 모색 1장 정치개혁의 성과와 과제', 'passage': ' 선거개혁도 유사한 문제가 있다. 유권자들은 1979년 현급 지방인대 직접선거 개혁 –제한적 경쟁선거의 도입, 유권자의 후보추천권 보장 – 이후 좀 더 적극적이고 능동적으로 선거에 참여한다. 그래서 1990년대에 들어 직접선거는 정치교육과 사회화를 통해 국민의 정권에 대한 정통성과 수용성을 높이려는 공산당의 동원수단에서 벗어나 점차로 국민의 의지와 요구를 실현하는 수단으로 발전하였다. 그렇지만 중국의 모든 선거는 공산당 일당지배 체제하에 진행된다는 근본적 한계 외에도, 성급 지방인대 대표와 전국인대 대표선거는 여전히 간접선거로 실시되고 있으며, 중앙정부는 말할 것도 없고 지방정부 수장들도 모두 의회에서 간접선거로 선출된다는 문제점이 있다. 이 때문에 선거를 통한 국민의 정치참여 확대도 전보다 나아지기는 했지만 여전히 많은 한계를 갖는다.', 'summary': ' 1979년 지방인대 직접선거 개혁이후 유권자들은 적극적이고 능동적으로 선거에 참여했다. 1990년대에 직접선거는 공산당의 동원수단에서 벗어나 국민의 의지와 요구를 실현하는 수단으로 발전했지만 여전히 문제점과 한계를 가졌다.'}\n"
     ]
    }
   ],
   "source": [
    "#test code\n",
    "\n",
    "#path 만들기\n",
    "dir=\"./2020-02-019.도서자료요약_Sample\"\n",
    "sample_file=os.listdir(\"./2020-02-019.도서자료요약_Sample\")[0]\n",
    "path=dir+\"/\"+sample_file \n",
    "#file descriptor 생성하고 내용 읽어내기\n",
    "fstr=open(path,encoding='utf-8').read()\n",
    "print(sample_file)\n",
    "#json decode 하기\n",
    "sample_json=json.loads(fstr)\n",
    "print(sample_json)"
   ]
  },
  {
   "cell_type": "code",
   "execution_count": 4,
   "metadata": {},
   "outputs": [],
   "source": [
    "#Set example text\n",
    "\n",
    "\n",
    "#1) open json file\n",
    "## get path\n",
    "## get file descriptor\n",
    "## get str\n",
    "\n",
    "dir= \"./2020-02-019.도서자료요약_Sample\"\n",
    "jsonfd=[]\n",
    "jsonstr=[]\n",
    "for file in os.listdir(dir):\n",
    "    jsonfd.append(open(dir+\"/\"+file, encoding=\"utf-8\"))\n",
    "    jsonstr.append(jsonfd[-1].read())\n",
    "\n",
    "#2) select passages and summaries\n",
    "jsonobj=[]\n",
    "count=0\n",
    "id={}\n",
    "passage={}\n",
    "summary={}\n",
    "for file in jsonstr:\n",
    "    obj=json.loads(file)\n",
    "    jsonobj.append(obj)\n",
    "    id[count]=obj[\"passage_id\"]\n",
    "    passage[count]=obj[\"passage\"]\n",
    "    summary[count]=obj[\"summary\"]\n"
   ]
  },
  {
   "cell_type": "code",
   "execution_count": 5,
   "metadata": {},
   "outputs": [
    {
     "name": "stdout",
     "output_type": "stream",
     "text": [
      "Length check True \n",
      "First set\n",
      " \t\tPassage 유럽연합의 경우 작년 12월 11일 ‘유럽 그린 딜(European Green Deal)’이라는 명칭 하에 ▲친환경, 순환 경제로의 이행을 통한 자원의 효율적 사용, ▲생물다양성의 회복 및 환경오염 감소를 목표로 친환경 기술에 대한 투자, ▲에너지부문에서의 탈탄소화, ▲건축물 에너지 효율 향상 등을 위해 대규모 투자를 통한 지속가능발전 전략을 발표하였다. 또한 올해 4월 17일 유럽의회도 결의 채택을 통해 코로나19 팬데믹 이후 경제회복 프로그램에 ‘유럽그린 딜’을 포함할 것을 촉구한 바 있다. 한편 미국의 경우는 작년 2월 7일 화석연료 사용 제한과 온실가스 배출 저감 및 청정에너지 산업에의 투자를 통한 고소득 일자리 창출 등 경제위기 극복을 위한 방안으로서 ‘그린 뉴딜’ 결의안이 하원에서 제출되기도 하였다. 이처럼 주요 국가들의 관심이 ‘그린 뉴딜’에 집중되고 있으므로, 이의 실행을 위한 국제적 협의 및 전략구상이 하반기부터 본격적으로 이루어질 것으로 전망된다. \n",
      "\t\tSummary EU는 작년 12월 효율적 자원 사용·친환경 기술 투자·에너지부문 탈탄소화·건축물 에너지 효율 향상 위한 '유럽그린 딜'을 발표했다. 의회도 올 4월 이를 촉구했고, 미국도 작년 2월 결의안을 제출했다. 이를 위한 국제 협의는 하반기부터 이뤄진다.\n"
     ]
    }
   ],
   "source": [
    "print(\"Length check\",len(passage)==len(summary),\"\\nFirst set\\n\",\"\\t\\tPassage\",passage[0],\"\\n\\t\\tSummary\",summary[0])"
   ]
  },
  {
   "cell_type": "code",
   "execution_count": 6,
   "metadata": {},
   "outputs": [],
   "source": [
    "#Tokenize text\n",
    "from konlpy.tag import Kkma \n",
    "from konlpy.utils import pprint \n"
   ]
  },
  {
   "cell_type": "code",
   "execution_count": 7,
   "metadata": {},
   "outputs": [
    {
     "name": "stdout",
     "output_type": "stream",
     "text": [
      "<class 'list'>\n"
     ]
    }
   ],
   "source": [
    "#품사 태깅하기\n",
    "kkma=Kkma()\n",
    "test=kkma.pos(passage[0])\n",
    "pprint(type(test))"
   ]
  },
  {
   "cell_type": "markdown",
   "metadata": {},
   "source": [
    "### 현 문제점 ###\n",
    "kkma의 pos()는 품사를 나눠주기 때문에 한 단어도 여러 개로 쪼개진다.\n",
    "따라서 의미 있는 NNG, NP, VV 튜플을 필터링 할 때 pos()으로 반환되는 리스트 안에서의 인덱스가\n",
    "문장 내에서 위치를 의미하지 않는다. \n",
    "문장 내에서 위치/소속 단어를 분별할 방법이 필요하다. \n",
    "\n",
    "일단은 TextRank만 시도해본다는 점에서 굳이 포함하지 않겠다. "
   ]
  },
  {
   "cell_type": "markdown",
   "metadata": {},
   "source": [
    "**Konlpy에서 사용자 정의 dictionary 생성하기**\n",
    "\n",
    "기본적으로 kkma는 dictionary이다.\n",
    "따라서 포함되지 않는 단어는 품사 태깅을 해줄 수 없다.\n",
    "필연적으로 더 큰 규모의 단어 삽입이 필요하다. "
   ]
  },
  {
   "cell_type": "code",
   "execution_count": 8,
   "metadata": {},
   "outputs": [
    {
     "data": {
      "text/plain": [
       "'\\n#delete stopwords\\nf=open(\"stopwords.txt\",encoding=\"utf-8\")\\nstopwords=kkma.pos(f.read())\\n\\n#new passage object with words-->words & PoS tuples / only NNG, VV\\npassage_w_pos={}\\n\\nfor index,content in passage.items():\\n    \\n    content_w_pos=kkma.pos(content)\\n    if index==0:\\n        print(type(content_w_pos))\\n    for i,word in enumerate(content_w_pos):\\n        if word in stopwords:\\n            content_w_pos.pop(i)\\n            \\n    #double check\\n    for k in range(5):\\n        for i, word in enumerate(content_w_pos):\\n            if word[1] not in [\\'NNG\\',\\'VV\\']:\\n                print(k,\"th loop\\t\",content_w_pos.pop(i))\\n    passage_w_pos[index]=content_w_pos\\n    \\n'"
      ]
     },
     "execution_count": 8,
     "metadata": {},
     "output_type": "execute_result"
    }
   ],
   "source": [
    "#Pre-process text : 특정 품사 제거, 불용어 제거 - without pandas\n",
    "\n",
    "#1) check the positions of each word\n",
    "#2) only include NNG and VV\n",
    "#3) filter stopwords\n",
    "'''\n",
    "#delete stopwords\n",
    "f=open(\"stopwords.txt\",encoding=\"utf-8\")\n",
    "stopwords=kkma.pos(f.read())\n",
    "\n",
    "#new passage object with words-->words & PoS tuples / only NNG, VV\n",
    "passage_w_pos={}\n",
    "\n",
    "for index,content in passage.items():\n",
    "    \n",
    "    content_w_pos=kkma.pos(content)\n",
    "    if index==0:\n",
    "        print(type(content_w_pos))\n",
    "    for i,word in enumerate(content_w_pos):\n",
    "        if word in stopwords:\n",
    "            content_w_pos.pop(i)\n",
    "            \n",
    "    #double check\n",
    "    for k in range(5):\n",
    "        for i, word in enumerate(content_w_pos):\n",
    "            if word[1] not in ['NNG','VV']:\n",
    "                print(k,\"th loop\\t\",content_w_pos.pop(i))\n",
    "    passage_w_pos[index]=content_w_pos\n",
    "    \n",
    "'''"
   ]
  },
  {
   "cell_type": "code",
   "execution_count": 9,
   "metadata": {},
   "outputs": [
    {
     "name": "stdout",
     "output_type": "stream",
     "text": [
      "     index vocab  pos\n",
      "0        0    유럽  NNG\n",
      "1        1    연합  NNG\n",
      "2        3    경우  NNG\n",
      "3        4    작년  NNG\n",
      "4       10    유럽  NNG\n",
      "..     ...   ...  ...\n",
      "99     229    구상  NNG\n",
      "100    231   하반기  NNG\n",
      "101    233   본격적  NNG\n",
      "102    235  이루어지   VV\n",
      "103    239    전망  NNG\n",
      "\n",
      "[104 rows x 3 columns]\n"
     ]
    }
   ],
   "source": [
    "#Pre-process text : 특정 품사 제거, 불용어 제거 -with Pandas\n",
    "import pandas as pd\n",
    "#1) check the positions of each word\n",
    "#2) only include NNG and VV\n",
    "#3) filter stopwords\n",
    "\n",
    "#get stopwords\n",
    "f=open(\"stopwords.txt\",encoding=\"utf-8\")\n",
    "stopwords=pd.DataFrame(kkma.pos(f.read()),columns=['vocab','pos'])\n",
    "\n",
    "#new passage object with words-->words & PoS tuples / only NNG, VV\n",
    "passage_w_pos={}\n",
    "\n",
    "for index,content in passage.items():\n",
    "    \n",
    "    #dataframe으로 변경\n",
    "    content_w_pos=pd.DataFrame(kkma.pos(content),columns=['vocab','pos'])\n",
    "    #품사,stopwords 필터링\n",
    "    content_w_pos=content_w_pos[(content_w_pos.pos=='NNG')|(content_w_pos.pos=='VV')&(~content_w_pos['vocab'].isin(list(stopwords.vocab)))]\n",
    "\n",
    "    #passage_w_pos에 삽입\n",
    "    passage_w_pos[index]=content_w_pos.reset_index()\n",
    "    print(passage_w_pos[0])\n",
    "    \n"
   ]
  },
  {
   "cell_type": "code",
   "execution_count": 10,
   "metadata": {},
   "outputs": [],
   "source": [
    "#Edge generation: window=5\n",
    "def generate_edge(passage_w_pos,window=5):\n",
    "    edges=[]\n",
    "    #for all passages\n",
    "    for pas in passage_w_pos.values():\n",
    "        pas=pas.reset_index()\n",
    "        #for all window size\n",
    "        for i in range(1,window+1):\n",
    "            for index in range(0,pas.shape[0]-i):# for all words in passages\n",
    "                edges.append((pas.loc[index,'vocab'],pas.loc[index+i,'vocab']))\n",
    "    return edges\n",
    "#count edges\n",
    "def reduce_flips_edge(edges):\n",
    "    processed_edges=edges\n",
    "    edges_set=[]\n",
    "    for i,edge in enumerate(edges):\n",
    "        if edge not in edges_set:\n",
    "            if edge[::-1] not in edges_set:\n",
    "                edges_set.append(edge)\n",
    "            else:\n",
    "                processed_edges.pop(i)\n",
    "                processed_edges.insert(i,edge[::-1])\n",
    "    return edges,edges_set\n",
    "    p\n",
    "#(A,B)=(B,A)\n",
    "from collections import Counter\n",
    "def count_edge(edges):\n",
    "    return Counter(edges)"
   ]
  },
  {
   "cell_type": "code",
   "execution_count": 11,
   "metadata": {},
   "outputs": [
    {
     "name": "stdout",
     "output_type": "stream",
     "text": [
      "총 edges 개수 w Window size 5:\t 505\n",
      "Counter({('유럽', '그린'): 3, ('경우', '작년'): 2, ('그린', '디'): 2, ('투자', '통하'): 2, ('유럽', '디'): 2, ('에너지', '투자'): 2, ('에너지', '통하'): 2, ('통하', '경제'): 2, ('유럽', '연합'): 1, ('연합', '경우'): 1, ('작년', '유럽'): 1, ('디', '명칭'): 1, ('명칭', '하'): 1, ('하', '친'): 1, ('친', '환경'): 1, ('환경', '순환'): 1, ('순환', '경제'): 1, ('경제', '이행'): 1, ('이행', '통하'): 1, ('통하', '자원'): 1, ('자원', '효율적'): 1, ('효율적', '사용'): 1, ('사용', '생물'): 1, ('생물', '다양성'): 1, ('다양성', '회복'): 1, ('회복', '환경오염'): 1, ('환경오염', '감소'): 1, ('감소', '목표'): 1, ('목표', '치'): 1, ('치', '환경'): 1, ('환경', '기술'): 1, ('기술', '투자'): 1, ('투자', '에너지'): 1, ('에너지', '부문'): 1, ('부문', '탈'): 1, ('탈', '탄소'): 1, ('탄소', '건축물'): 1, ('건축물', '에너지'): 1, ('에너지', '효율'): 1, ('효율', '향상'): 1, ('향상', '대규모'): 1, ('대규모', '투자'): 1, ('통하', '지속'): 1, ('지속', '가능'): 1, ('가능', '발전'): 1, ('발전', '전략'): 1, ('전략', '발표'): 1, ('발표', '올해'): 1, ('올해', '유럽'): 1, ('유럽', '의회'): 1, ('의회', '결의'): 1, ('결의', '채택'): 1, ('채택', '통하'): 1, ('통하', '코로나'): 1, ('코로나', '패'): 1, ('패', '이후'): 1, ('이후', '경제'): 1, ('경제', '회복'): 1, ('회복', '프로그램'): 1, ('프로그램', '유럽'): 1, ('디', '을'): 1, ('을', '포함'): 1, ('포함', '촉구'): 1, ('촉구', '경우'): 1, ('작년', '화석'): 1, ('화석', '연료'): 1, ('연료', '사용'): 1, ('사용', '제한'): 1, ('제한', '온실'): 1, ('온실', '가스'): 1, ('가스', '배출'): 1, ('배출', '저감'): 1, ('저감', '청정'): 1, ('청정', '에너지'): 1, ('에너지', '산업'): 1, ('산업', '투자'): 1, ('통하', '고소득'): 1, ('고소득', '일자리'): 1, ('일자리', '창출'): 1, ('창출', '경제'): 1, ('경제', '위기'): 1, ('위기', '극복'): 1, ('극복', '방안'): 1, ('방안', '뉴딜'): 1, ('뉴딜', '결의'): 1, ('결의', '안이'): 1, ('안이', '하원'): 1, ('하원', '제출'): 1, ('제출', '주요'): 1, ('주요', '국가'): 1, ('국가', '관심'): 1, ('관심', '뉴딜'): 1, ('뉴딜', '집중'): 1, ('집중', '이의'): 1, ('이의', '실행'): 1, ('실행', '국제적'): 1, ('국제적', '협의'): 1, ('협의', '전략'): 1, ('전략', '구상'): 1, ('구상', '하반기'): 1, ('하반기', '본격적'): 1, ('본격적', '이루어지'): 1, ('이루어지', '전망'): 1, ('유럽', '경우'): 1, ('연합', '작년'): 1, ('경우', '유럽'): 1, ('작년', '그린'): 1, ('그린', '명칭'): 1, ('디', '하'): 1, ('명칭', '친'): 1, ('하', '환경'): 1, ('친', '순환'): 1, ('환경', '경제'): 1, ('순환', '이행'): 1, ('경제', '통하'): 1, ('이행', '자원'): 1, ('통하', '효율적'): 1, ('자원', '사용'): 1, ('효율적', '생물'): 1, ('사용', '다양성'): 1, ('생물', '회복'): 1, ('다양성', '환경오염'): 1, ('회복', '감소'): 1, ('환경오염', '목표'): 1, ('감소', '치'): 1, ('목표', '환경'): 1, ('치', '기술'): 1, ('환경', '투자'): 1, ('기술', '에너지'): 1, ('투자', '부문'): 1, ('에너지', '탈'): 1, ('부문', '탄소'): 1, ('탈', '건축물'): 1, ('탄소', '에너지'): 1, ('건축물', '효율'): 1, ('에너지', '향상'): 1, ('효율', '대규모'): 1, ('향상', '투자'): 1, ('대규모', '통하'): 1, ('투자', '지속'): 1, ('통하', '가능'): 1, ('지속', '발전'): 1, ('가능', '전략'): 1, ('발전', '발표'): 1, ('전략', '올해'): 1, ('발표', '유럽'): 1, ('올해', '의회'): 1, ('유럽', '결의'): 1, ('의회', '채택'): 1, ('결의', '통하'): 1, ('채택', '코로나'): 1, ('통하', '패'): 1, ('코로나', '이후'): 1, ('패', '경제'): 1, ('이후', '회복'): 1, ('경제', '프로그램'): 1, ('회복', '유럽'): 1, ('프로그램', '그린'): 1, ('그린', '을'): 1, ('디', '포함'): 1, ('을', '촉구'): 1, ('포함', '경우'): 1, ('촉구', '작년'): 1, ('경우', '화석'): 1, ('작년', '연료'): 1, ('화석', '사용'): 1, ('연료', '제한'): 1, ('사용', '온실'): 1, ('제한', '가스'): 1, ('온실', '배출'): 1, ('가스', '저감'): 1, ('배출', '청정'): 1, ('저감', '에너지'): 1, ('청정', '산업'): 1, ('산업', '통하'): 1, ('투자', '고소득'): 1, ('통하', '일자리'): 1, ('고소득', '창출'): 1, ('일자리', '경제'): 1, ('창출', '위기'): 1, ('경제', '극복'): 1, ('위기', '방안'): 1, ('극복', '뉴딜'): 1, ('방안', '결의'): 1, ('뉴딜', '안이'): 1, ('결의', '하원'): 1, ('안이', '제출'): 1, ('하원', '주요'): 1, ('제출', '국가'): 1, ('주요', '관심'): 1, ('국가', '뉴딜'): 1, ('관심', '집중'): 1, ('뉴딜', '이의'): 1, ('집중', '실행'): 1, ('이의', '국제적'): 1, ('실행', '협의'): 1, ('국제적', '전략'): 1, ('협의', '구상'): 1, ('전략', '하반기'): 1, ('구상', '본격적'): 1, ('하반기', '이루어지'): 1, ('본격적', '전망'): 1, ('유럽', '작년'): 1, ('연합', '유럽'): 1, ('경우', '그린'): 1, ('작년', '디'): 1, ('유럽', '명칭'): 1, ('그린', '하'): 1, ('디', '친'): 1, ('명칭', '환경'): 1, ('하', '순환'): 1, ('친', '경제'): 1, ('환경', '이행'): 1, ('순환', '통하'): 1, ('경제', '자원'): 1, ('이행', '효율적'): 1, ('통하', '사용'): 1, ('자원', '생물'): 1, ('효율적', '다양성'): 1, ('사용', '회복'): 1, ('생물', '환경오염'): 1, ('다양성', '감소'): 1, ('회복', '목표'): 1, ('환경오염', '치'): 1, ('감소', '환경'): 1, ('목표', '기술'): 1, ('치', '투자'): 1, ('환경', '에너지'): 1, ('기술', '부문'): 1, ('투자', '탈'): 1, ('에너지', '탄소'): 1, ('부문', '건축물'): 1, ('탈', '에너지'): 1, ('탄소', '효율'): 1, ('건축물', '향상'): 1, ('에너지', '대규모'): 1, ('효율', '투자'): 1, ('향상', '통하'): 1, ('대규모', '지속'): 1, ('투자', '가능'): 1, ('통하', '발전'): 1, ('지속', '전략'): 1, ('가능', '발표'): 1, ('발전', '올해'): 1, ('전략', '유럽'): 1, ('발표', '의회'): 1, ('올해', '결의'): 1, ('유럽', '채택'): 1, ('의회', '통하'): 1, ('결의', '코로나'): 1, ('채택', '패'): 1, ('통하', '이후'): 1, ('코로나', '경제'): 1, ('패', '회복'): 1, ('이후', '프로그램'): 1, ('경제', '유럽'): 1, ('회복', '그린'): 1, ('프로그램', '디'): 1, ('유럽', '을'): 1, ('그린', '포함'): 1, ('디', '촉구'): 1, ('을', '경우'): 1, ('포함', '작년'): 1, ('촉구', '화석'): 1, ('경우', '연료'): 1, ('작년', '사용'): 1, ('화석', '제한'): 1, ('연료', '온실'): 1, ('사용', '가스'): 1, ('제한', '배출'): 1, ('온실', '저감'): 1, ('가스', '청정'): 1, ('배출', '에너지'): 1, ('저감', '산업'): 1, ('청정', '투자'): 1, ('산업', '고소득'): 1, ('투자', '일자리'): 1, ('통하', '창출'): 1, ('고소득', '경제'): 1, ('일자리', '위기'): 1, ('창출', '극복'): 1, ('경제', '방안'): 1, ('위기', '뉴딜'): 1, ('극복', '결의'): 1, ('방안', '안이'): 1, ('뉴딜', '하원'): 1, ('결의', '제출'): 1, ('안이', '주요'): 1, ('하원', '국가'): 1, ('제출', '관심'): 1, ('주요', '뉴딜'): 1, ('국가', '집중'): 1, ('관심', '이의'): 1, ('뉴딜', '실행'): 1, ('집중', '국제적'): 1, ('이의', '협의'): 1, ('실행', '전략'): 1, ('국제적', '구상'): 1, ('협의', '하반기'): 1, ('전략', '본격적'): 1, ('구상', '이루어지'): 1, ('하반기', '전망'): 1, ('유럽', '유럽'): 1, ('연합', '그린'): 1, ('경우', '디'): 1, ('작년', '명칭'): 1, ('유럽', '하'): 1, ('그린', '친'): 1, ('디', '환경'): 1, ('명칭', '순환'): 1, ('하', '경제'): 1, ('친', '이행'): 1, ('환경', '통하'): 1, ('순환', '자원'): 1, ('경제', '효율적'): 1, ('이행', '사용'): 1, ('통하', '생물'): 1, ('자원', '다양성'): 1, ('효율적', '회복'): 1, ('사용', '환경오염'): 1, ('생물', '감소'): 1, ('다양성', '목표'): 1, ('회복', '치'): 1, ('환경오염', '환경'): 1, ('감소', '기술'): 1, ('목표', '투자'): 1, ('치', '에너지'): 1, ('환경', '부문'): 1, ('기술', '탈'): 1, ('투자', '탄소'): 1, ('에너지', '건축물'): 1, ('부문', '에너지'): 1, ('탈', '효율'): 1, ('탄소', '향상'): 1, ('건축물', '대규모'): 1, ('효율', '통하'): 1, ('향상', '지속'): 1, ('대규모', '가능'): 1, ('투자', '발전'): 1, ('통하', '전략'): 1, ('지속', '발표'): 1, ('가능', '올해'): 1, ('발전', '유럽'): 1, ('전략', '의회'): 1, ('발표', '결의'): 1, ('올해', '채택'): 1, ('유럽', '통하'): 1, ('의회', '코로나'): 1, ('결의', '패'): 1, ('채택', '이후'): 1, ('코로나', '회복'): 1, ('패', '프로그램'): 1, ('이후', '유럽'): 1, ('경제', '그린'): 1, ('회복', '디'): 1, ('프로그램', '을'): 1, ('유럽', '포함'): 1, ('그린', '촉구'): 1, ('디', '경우'): 1, ('을', '작년'): 1, ('포함', '화석'): 1, ('촉구', '연료'): 1, ('경우', '사용'): 1, ('작년', '제한'): 1, ('화석', '온실'): 1, ('연료', '가스'): 1, ('사용', '배출'): 1, ('제한', '저감'): 1, ('온실', '청정'): 1, ('가스', '에너지'): 1, ('배출', '산업'): 1, ('저감', '투자'): 1, ('청정', '통하'): 1, ('에너지', '고소득'): 1, ('산업', '일자리'): 1, ('투자', '창출'): 1, ('고소득', '위기'): 1, ('일자리', '극복'): 1, ('창출', '방안'): 1, ('경제', '뉴딜'): 1, ('위기', '결의'): 1, ('극복', '안이'): 1, ('방안', '하원'): 1, ('뉴딜', '제출'): 1, ('결의', '주요'): 1, ('안이', '국가'): 1, ('하원', '관심'): 1, ('제출', '뉴딜'): 1, ('주요', '집중'): 1, ('국가', '이의'): 1, ('관심', '실행'): 1, ('뉴딜', '국제적'): 1, ('집중', '협의'): 1, ('이의', '전략'): 1, ('실행', '구상'): 1, ('국제적', '하반기'): 1, ('협의', '본격적'): 1, ('전략', '이루어지'): 1, ('구상', '전망'): 1, ('연합', '디'): 1, ('경우', '명칭'): 1, ('작년', '하'): 1, ('유럽', '친'): 1, ('그린', '환경'): 1, ('디', '순환'): 1, ('명칭', '경제'): 1, ('하', '이행'): 1, ('친', '통하'): 1, ('환경', '자원'): 1, ('순환', '효율적'): 1, ('경제', '사용'): 1, ('이행', '생물'): 1, ('통하', '다양성'): 1, ('자원', '회복'): 1, ('효율적', '환경오염'): 1, ('사용', '감소'): 1, ('생물', '목표'): 1, ('다양성', '치'): 1, ('회복', '환경'): 1, ('환경오염', '기술'): 1, ('감소', '투자'): 1, ('목표', '에너지'): 1, ('치', '부문'): 1, ('환경', '탈'): 1, ('기술', '탄소'): 1, ('투자', '건축물'): 1, ('에너지', '에너지'): 1, ('부문', '효율'): 1, ('탈', '향상'): 1, ('탄소', '대규모'): 1, ('건축물', '투자'): 1, ('효율', '지속'): 1, ('향상', '가능'): 1, ('대규모', '발전'): 1, ('투자', '전략'): 1, ('통하', '발표'): 1, ('지속', '올해'): 1, ('가능', '유럽'): 1, ('발전', '의회'): 1, ('전략', '결의'): 1, ('발표', '채택'): 1, ('올해', '통하'): 1, ('유럽', '코로나'): 1, ('의회', '패'): 1, ('결의', '이후'): 1, ('채택', '경제'): 1, ('통하', '회복'): 1, ('코로나', '프로그램'): 1, ('패', '유럽'): 1, ('이후', '그린'): 1, ('경제', '디'): 1, ('회복', '을'): 1, ('프로그램', '포함'): 1, ('유럽', '촉구'): 1, ('그린', '경우'): 1, ('디', '작년'): 1, ('을', '화석'): 1, ('포함', '연료'): 1, ('촉구', '사용'): 1, ('경우', '제한'): 1, ('작년', '온실'): 1, ('화석', '가스'): 1, ('연료', '배출'): 1, ('사용', '저감'): 1, ('제한', '청정'): 1, ('온실', '에너지'): 1, ('가스', '산업'): 1, ('배출', '투자'): 1, ('저감', '통하'): 1, ('청정', '고소득'): 1, ('에너지', '일자리'): 1, ('산업', '창출'): 1, ('투자', '경제'): 1, ('통하', '위기'): 1, ('고소득', '극복'): 1, ('일자리', '방안'): 1, ('창출', '뉴딜'): 1, ('경제', '결의'): 1, ('위기', '안이'): 1, ('극복', '하원'): 1, ('방안', '제출'): 1, ('뉴딜', '주요'): 1, ('결의', '국가'): 1, ('안이', '관심'): 1, ('하원', '뉴딜'): 1, ('제출', '집중'): 1, ('주요', '이의'): 1, ('국가', '실행'): 1, ('관심', '국제적'): 1, ('뉴딜', '협의'): 1, ('집중', '전략'): 1, ('이의', '구상'): 1, ('실행', '하반기'): 1, ('국제적', '본격적'): 1, ('협의', '이루어지'): 1, ('전략', '전망'): 1})\n"
     ]
    }
   ],
   "source": [
    "#generate edges\n",
    "edges=generate_edge(passage_w_pos)\n",
    "print(\"총 edges 개수 w Window size 5:\\t\",len(edges))\n",
    "\n",
    "#generate edges without equals once flipped \n",
    "#edges_wo_flips,edges_set_wo_flips=reduce_flips_edge(edges)\n",
    "\n",
    "#quick check on the numbers\n",
    "counter=count_edge(edges)\n",
    "print(counter)"
   ]
  },
  {
   "cell_type": "code",
   "execution_count": 12,
   "metadata": {},
   "outputs": [],
   "source": [
    "import numpy as np"
   ]
  },
  {
   "cell_type": "code",
   "execution_count": 13,
   "metadata": {},
   "outputs": [
    {
     "name": "stdout",
     "output_type": "stream",
     "text": [
      "82\n"
     ]
    }
   ],
   "source": [
    "#Create a graph out of the edges\n",
    "\n",
    "#1) make a non-duplicative vocabulary set\n",
    "\n",
    "#passage_w_pos is a dictionary 0:content_w_pos(DataFrame)\n",
    "vocab=passage_w_pos[0]['vocab']\n",
    "vocab=vocab.drop_duplicates()\n",
    "vocab=vocab.reset_index()\n",
    "vocab.drop('index',inplace=True,axis=1)\n",
    "\n",
    "print(vocab.size)\n",
    "#2) make co relationship matrx of vocab*vocab\n",
    "rel_matrix=np.zeros((vocab.size,vocab.size))\n",
    "\n",
    "for pair in counter:\n",
    "    w1,w2=pair\n",
    "    #한 integer가 나올 것이다. \n",
    "    p1=vocab.loc[vocab['vocab']==w1].index.tolist()\n",
    "    p2=vocab.loc[vocab['vocab']==w2].index.tolist()\n",
    "    #3) use counter to fill in the matrix\n",
    "    count=counter[pair]\n",
    "    rel_matrix[p1[0]][p2[0]]+=count\n",
    "\n",
    "    \n",
    "\n",
    "#4) normalize matrix only the rows\n",
    "\t# if directed, omit \"reduce_flip_edges\" stage and make the matrix accordingly\n",
    "\n",
    "norm=np.linalg.norm(rel_matrix)\n",
    "rel_matrix=rel_matrix/norm\n",
    " \n",
    "#5) make iterative calculation starting with dot of n*n   with [1....1] (n*1 size)\n",
    "iteration=10\n",
    "im_vec=np.ones(rel_matrix.shape[0])\n",
    "for i in range(iteration):\n",
    "    im_vec=np.dot(rel_matrix,im_vec)\n",
    "    "
   ]
  },
  {
   "cell_type": "code",
   "execution_count": 14,
   "metadata": {},
   "outputs": [
    {
     "data": {
      "text/plain": [
       "array([5.91294366e-05, 2.13916438e-05, 3.00579545e-05, 2.70841724e-05,\n",
       "       2.54550759e-05, 2.45827165e-05, 1.54298901e-05, 1.51639846e-05,\n",
       "       1.84416507e-05, 3.28584979e-05, 1.52515598e-05, 3.77440670e-05,\n",
       "       1.31217070e-05, 4.38949439e-05, 1.16619297e-05, 1.19150981e-05,\n",
       "       2.20051265e-05, 1.23000107e-05, 1.31402055e-05, 3.11276244e-05,\n",
       "       1.37943760e-05, 1.68833194e-05, 2.02332327e-05, 1.95432727e-05,\n",
       "       1.68932278e-05, 4.07393972e-05, 4.60100725e-05, 1.42325949e-05,\n",
       "       1.45055366e-05, 1.47393593e-05, 1.77157646e-05, 1.66633459e-05,\n",
       "       1.66329959e-05, 1.65919547e-05, 1.10402798e-05, 1.65174340e-05,\n",
       "       1.63590200e-05, 1.64261206e-05, 1.66298739e-05, 1.97429475e-05,\n",
       "       1.50829590e-05, 1.69069679e-05, 1.82311019e-05, 1.66278441e-05,\n",
       "       2.14738816e-05, 2.19328158e-05, 1.70553812e-05, 1.17869599e-05,\n",
       "       1.16871427e-05, 1.28738912e-05, 9.83574909e-06, 1.08242289e-05,\n",
       "       1.17795980e-05, 1.57126144e-05, 1.54947551e-05, 1.83808454e-05,\n",
       "       2.12769434e-05, 1.97211840e-05, 1.38025072e-05, 7.72541857e-06,\n",
       "       7.23755408e-06, 6.96551149e-06, 3.93771242e-06, 3.67972681e-06,\n",
       "       3.47349626e-06, 4.86968325e-06, 1.29894038e-06, 1.70921397e-06,\n",
       "       1.90247730e-06, 2.02911935e-06, 2.10187759e-06, 2.13148548e-06,\n",
       "       3.43982233e-06, 3.04649305e-06, 2.69833933e-06, 2.39014630e-06,\n",
       "       2.11729458e-06, 0.00000000e+00, 0.00000000e+00, 0.00000000e+00,\n",
       "       0.00000000e+00, 0.00000000e+00])"
      ]
     },
     "execution_count": 14,
     "metadata": {},
     "output_type": "execute_result"
    }
   ],
   "source": [
    "im_vec"
   ]
  },
  {
   "cell_type": "code",
   "execution_count": 15,
   "metadata": {},
   "outputs": [
    {
     "data": {
      "text/html": [
       "<div>\n",
       "<style scoped>\n",
       "    .dataframe tbody tr th:only-of-type {\n",
       "        vertical-align: middle;\n",
       "    }\n",
       "\n",
       "    .dataframe tbody tr th {\n",
       "        vertical-align: top;\n",
       "    }\n",
       "\n",
       "    .dataframe thead th {\n",
       "        text-align: right;\n",
       "    }\n",
       "</style>\n",
       "<table border=\"1\" class=\"dataframe\">\n",
       "  <thead>\n",
       "    <tr style=\"text-align: right;\">\n",
       "      <th></th>\n",
       "      <th>vocab</th>\n",
       "    </tr>\n",
       "  </thead>\n",
       "  <tbody>\n",
       "    <tr>\n",
       "      <th>0</th>\n",
       "      <td>유럽</td>\n",
       "    </tr>\n",
       "    <tr>\n",
       "      <th>1</th>\n",
       "      <td>연합</td>\n",
       "    </tr>\n",
       "    <tr>\n",
       "      <th>2</th>\n",
       "      <td>경우</td>\n",
       "    </tr>\n",
       "    <tr>\n",
       "      <th>3</th>\n",
       "      <td>작년</td>\n",
       "    </tr>\n",
       "    <tr>\n",
       "      <th>4</th>\n",
       "      <td>그린</td>\n",
       "    </tr>\n",
       "    <tr>\n",
       "      <th>...</th>\n",
       "      <td>...</td>\n",
       "    </tr>\n",
       "    <tr>\n",
       "      <th>77</th>\n",
       "      <td>구상</td>\n",
       "    </tr>\n",
       "    <tr>\n",
       "      <th>78</th>\n",
       "      <td>하반기</td>\n",
       "    </tr>\n",
       "    <tr>\n",
       "      <th>79</th>\n",
       "      <td>본격적</td>\n",
       "    </tr>\n",
       "    <tr>\n",
       "      <th>80</th>\n",
       "      <td>이루어지</td>\n",
       "    </tr>\n",
       "    <tr>\n",
       "      <th>81</th>\n",
       "      <td>전망</td>\n",
       "    </tr>\n",
       "  </tbody>\n",
       "</table>\n",
       "<p>82 rows × 1 columns</p>\n",
       "</div>"
      ],
      "text/plain": [
       "   vocab\n",
       "0     유럽\n",
       "1     연합\n",
       "2     경우\n",
       "3     작년\n",
       "4     그린\n",
       "..   ...\n",
       "77    구상\n",
       "78   하반기\n",
       "79   본격적\n",
       "80  이루어지\n",
       "81    전망\n",
       "\n",
       "[82 rows x 1 columns]"
      ]
     },
     "execution_count": 15,
     "metadata": {},
     "output_type": "execute_result"
    }
   ],
   "source": [
    "vocab"
   ]
  },
  {
   "cell_type": "code",
   "execution_count": 16,
   "metadata": {},
   "outputs": [],
   "source": [
    "#match the importance score with the words\n",
    "vocab['importance']=im_vec.tolist()"
   ]
  },
  {
   "cell_type": "code",
   "execution_count": 17,
   "metadata": {},
   "outputs": [
    {
     "name": "stdout",
     "output_type": "stream",
     "text": [
      "   vocab  importance\n",
      "0     유럽    0.000059\n",
      "26   에너지    0.000046\n",
      "13    통하    0.000044\n",
      "25    투자    0.000041\n",
      "11    경제    0.000038\n",
      "9     환경    0.000033\n",
      "19    회복    0.000031\n",
      "2     경우    0.000030\n",
      "3     작년    0.000027\n",
      "4     그린    0.000025\n",
      "5      디    0.000025\n",
      "16    사용    0.000022\n",
      "45    이후    0.000022\n",
      "44     패    0.000021\n",
      "1     연합    0.000021\n",
      "56    저감    0.000021\n",
      "22    목표    0.000020\n",
      "39    올해    0.000020\n",
      "57    청정    0.000020\n",
      "23     치    0.000020\n"
     ]
    }
   ],
   "source": [
    "#extract the top 10 important words\n",
    "answers=vocab.sort_values(by='importance',ascending=False).head(20)\n",
    "print(answers)"
   ]
  },
  {
   "cell_type": "markdown",
   "metadata": {},
   "source": [
    "<h2>결과 평가</h2>\n",
    "\n",
    "데이터셋은 passage인자와 summary인자가 있다.\n",
    "\n",
    "<h4> 답안지 만들기 </h4>\n",
    "<ol>\n",
    "\t<li>각자를 토큰화한 것을 비교해 summary 속의 단어 토큰 중 passage의 것과 같았던 것을 간추린다. </li>\n",
    "\t<li>passage의 인자 중 일반명사는 중요도를 절반으로 선정한다. </li>\n",
    "</ol>\n",
    "\n",
    "<h4> F-feature 계산하기</h4>\n",
    "<ol>\n",
    "\t<li>Precision을 구한다 : |교집합|/|TR 결과|</ol>\n",
    "\t<li>Recall을 구한다: |교집합|/|답안지|</ol>\n",
    "\t<li>F-feature을 구한다: 2*P*R/(P+R)</ol>\n",
    "</ol>\n",
    "\n"
   ]
  },
  {
   "cell_type": "code",
   "execution_count": null,
   "metadata": {},
   "outputs": [],
   "source": [
    "#Compare results\n",
    "\n",
    "#1) tokenize summary\n",
    "\n",
    "#new passage object with words-->words & PoS tuples / only NNG, VV\n",
    "summary_w_pos={}\n",
    "\n",
    "for index,content in summary.items():\n",
    "    \n",
    "    #dataframe으로 변경\n",
    "    content_w_pos=pd.DataFrame(kkma.pos(content),columns=['vocab','pos'])\n",
    "    #품사,stopwords 필터링\n",
    "    content_w_pos=content_w_pos[(content_w_pos.pos=='NNG')|(content_w_pos.pos=='VV')&(~content_w_pos['vocab'].isin(list(stopwords.vocab)))]\n",
    "\n",
    "    #summary_w_pos에 삽입\n",
    "    summary_w_pos[index]=content_w_pos.reset_index().drop(columns=['index'])\n",
    "    print(summary_w_pos[0])\n",
    "\n",
    "print(summary_w_pos)"
   ]
  },
  {
   "cell_type": "markdown",
   "metadata": {},
   "source": [
    "\n",
    "### if there is a union between the summary and important tokens, \n",
    " 2) get the union<br>\n",
    " 3) get the F-feature score\n",
    "\n",
    "### else\n",
    " 2) get the word embedding of both important tokens and summary tokens<br>\n",
    " 3) get the similarity score average "
   ]
  },
  {
   "cell_type": "code",
   "execution_count": 26,
   "metadata": {},
   "outputs": [
    {
     "name": "stdout",
     "output_type": "stream",
     "text": [
      "  vocab\n",
      "0    유럽\n",
      "1   에너지\n",
      "2   에너지\n",
      "3    투자\n",
      "4    환경\n",
      "5    작년\n",
      "6    작년\n",
      "7    그린\n",
      "8     디\n",
      "9    사용\n"
     ]
    }
   ],
   "source": [
    "#check if there\n",
    "inner=pd.merge(answers['vocab'],summary_w_pos[0]['vocab'],how='inner')\n",
    "print(inner)"
   ]
  },
  {
   "cell_type": "code",
   "execution_count": 28,
   "metadata": {},
   "outputs": [
    {
     "name": "stdout",
     "output_type": "stream",
     "text": [
      "성과: 0.27777777777777773\n"
     ]
    }
   ],
   "source": [
    "#union is existant\n",
    "#3) Get the F-feature\n",
    "\n",
    "#Recall- relevant document by search/relevant document aka. inner/answers -->1\n",
    "#Precision-inner/summary--> 10/summary\n",
    "\n",
    "recall=1\n",
    "precision=inner.size/summary_w_pos[0].size\n",
    "f_score=2*recall*precision/(recall+precision)\n",
    "\n",
    "print(\"성과:\",f_score)"
   ]
  },
  {
   "cell_type": "markdown",
   "metadata": {},
   "source": [
    "#### else\n",
    "similarity based 결과 측정"
   ]
  },
  {
   "cell_type": "code",
   "execution_count": null,
   "metadata": {},
   "outputs": [],
   "source": [
    "#change the tokenized word to a vector"
   ]
  },
  {
   "cell_type": "markdown",
   "metadata": {},
   "source": [
    "## 이슈 및 추가 확보 요청사항"
   ]
  },
  {
   "cell_type": "markdown",
   "metadata": {},
   "source": [
    "### 학습을 위한 추가 이슈\n",
    "\n",
    "1. 상승, 하강과 같이 방향성과 관련된 단어는 중요도가 부과되어야 할 것 같다.\n",
    "2. 형용사를 포함해야한다.\n",
    "3. 단어가 과하게 쪼개져있다.\n",
    "\n",
    "예)<br>\n",
    "\"하\" / 아래라는 의미의 어근<br>\n",
    "\"탈\" / 탈탄소 할 때 그거같은데... 통합 부탁<br>\n",
    "\"친\" / 친환경 할 때 그거같은데... 통합 부탁<br>\n",
    "\n",
    "### 서비스를 위한 추가 이슈\n",
    "\n",
    "3. 단어가 passage 내 단어와 다시 매칭될 수 있어야 한다. \n",
    "4. 매칭을 진행해서 위치를 얻어낸 후 빈칸을 뚫을 수 있어야 한다. \n",
    "5. 빈칸 위치와 정답 데이터베이스를 저장하고 조회할 수 있어야 한다. \n"
   ]
  }
 ],
 "metadata": {
  "interpreter": {
   "hash": "b485adf93bff8ca269d5493edbedeaa1a759650bfde9cbea36fd7f7b559c92d8"
  },
  "kernelspec": {
   "display_name": "Python 3.9.6 64-bit",
   "language": "python",
   "name": "python3"
  },
  "language_info": {
   "codemirror_mode": {
    "name": "ipython",
    "version": 3
   },
   "file_extension": ".py",
   "mimetype": "text/x-python",
   "name": "python",
   "nbconvert_exporter": "python",
   "pygments_lexer": "ipython3",
   "version": "3.9.6"
  },
  "orig_nbformat": 4
 },
 "nbformat": 4,
 "nbformat_minor": 2
}
