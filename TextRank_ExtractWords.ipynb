{
 "cells": [
  {
   "cell_type": "markdown",
   "metadata": {},
   "source": [
    "<h1> 기본 텍스트 랭크 작성- 단어 추출</h1>\n",
    "<ul>\n",
    "\t<li>unordered</li>\n",
    "\t<li>undirected</li>\n",
    "\t<li>window=5</li>\n",
    "\t<li>co-occurrence based</li>\n",
    "</ul>"
   ]
  },
  {
   "cell_type": "code",
   "execution_count": 1,
   "metadata": {},
   "outputs": [],
   "source": [
    "import os\n",
    "import json"
   ]
  },
  {
   "cell_type": "code",
   "execution_count": 2,
   "metadata": {},
   "outputs": [
    {
     "name": "stdout",
     "output_type": "stream",
     "text": [
      "CNTS-00047965957_40_41-0.json\n",
      "{'passage_id': 'CNTS-00047965957_40_41-0', 'metadata': {'doc_id': 'CNTS-00047965957', 'doc_type': '도서', 'doc_name': '후진타오 시대의 중국정치', 'author': '조영남', 'publisher': '나남출판', 'published_year': '2006', 'kdc_label': '정치학', 'kdc_code': '340'}, 'chapter': '1부 중국정치개혁의 성과와 모색 1장 정치개혁의 성과와 과제', 'passage': ' 선거개혁도 유사한 문제가 있다. 유권자들은 1979년 현급 지방인대 직접선거 개혁 –제한적 경쟁선거의 도입, 유권자의 후보추천권 보장 – 이후 좀 더 적극적이고 능동적으로 선거에 참여한다. 그래서 1990년대에 들어 직접선거는 정치교육과 사회화를 통해 국민의 정권에 대한 정통성과 수용성을 높이려는 공산당의 동원수단에서 벗어나 점차로 국민의 의지와 요구를 실현하는 수단으로 발전하였다. 그렇지만 중국의 모든 선거는 공산당 일당지배 체제하에 진행된다는 근본적 한계 외에도, 성급 지방인대 대표와 전국인대 대표선거는 여전히 간접선거로 실시되고 있으며, 중앙정부는 말할 것도 없고 지방정부 수장들도 모두 의회에서 간접선거로 선출된다는 문제점이 있다. 이 때문에 선거를 통한 국민의 정치참여 확대도 전보다 나아지기는 했지만 여전히 많은 한계를 갖는다.', 'summary': ' 1979년 지방인대 직접선거 개혁이후 유권자들은 적극적이고 능동적으로 선거에 참여했다. 1990년대에 직접선거는 공산당의 동원수단에서 벗어나 국민의 의지와 요구를 실현하는 수단으로 발전했지만 여전히 문제점과 한계를 가졌다.'}\n"
     ]
    }
   ],
   "source": [
    "#test code\n",
    "\n",
    "#path 만들기\n",
    "dir=\"./2020-02-019.도서자료요약_Sample\"\n",
    "sample_file=os.listdir(\"./2020-02-019.도서자료요약_Sample\")[0]\n",
    "path=dir+\"/\"+sample_file \n",
    "#file descriptor 생성하고 내용 읽어내기\n",
    "fstr=open(path,encoding='utf-8').read()\n",
    "print(sample_file)\n",
    "#json decode 하기\n",
    "sample_json=json.loads(fstr)\n",
    "print(sample_json)"
   ]
  },
  {
   "cell_type": "code",
   "execution_count": 3,
   "metadata": {},
   "outputs": [],
   "source": [
    "#Set example text\n",
    "\n",
    "\n",
    "#1) open json file\n",
    "## get path\n",
    "## get file descriptor\n",
    "## get str\n",
    "\n",
    "dir= \"./2020-02-019.도서자료요약_Sample\"\n",
    "jsonfd=[]\n",
    "jsonstr=[]\n",
    "for file in os.listdir(dir):\n",
    "    jsonfd.append(open(dir+\"/\"+file, encoding=\"utf-8\"))\n",
    "    jsonstr.append(jsonfd[-1].read())\n",
    "\n",
    "#2) select passages and summaries\n",
    "jsonobj=[]\n",
    "count=0\n",
    "id={}\n",
    "passage={}\n",
    "summary={}\n",
    "for file in jsonstr:\n",
    "    obj=json.loads(file)\n",
    "    jsonobj.append(obj)\n",
    "    id[count]=obj[\"passage_id\"]\n",
    "    passage[count]=obj[\"passage\"]\n",
    "    summary[count]=obj[\"summary\"]\n"
   ]
  },
  {
   "cell_type": "code",
   "execution_count": 4,
   "metadata": {},
   "outputs": [
    {
     "name": "stdout",
     "output_type": "stream",
     "text": [
      "Length check True \n",
      "First set\n",
      " \t\tPassage 유럽연합의 경우 작년 12월 11일 ‘유럽 그린 딜(European Green Deal)’이라는 명칭 하에 ▲친환경, 순환 경제로의 이행을 통한 자원의 효율적 사용, ▲생물다양성의 회복 및 환경오염 감소를 목표로 친환경 기술에 대한 투자, ▲에너지부문에서의 탈탄소화, ▲건축물 에너지 효율 향상 등을 위해 대규모 투자를 통한 지속가능발전 전략을 발표하였다. 또한 올해 4월 17일 유럽의회도 결의 채택을 통해 코로나19 팬데믹 이후 경제회복 프로그램에 ‘유럽그린 딜’을 포함할 것을 촉구한 바 있다. 한편 미국의 경우는 작년 2월 7일 화석연료 사용 제한과 온실가스 배출 저감 및 청정에너지 산업에의 투자를 통한 고소득 일자리 창출 등 경제위기 극복을 위한 방안으로서 ‘그린 뉴딜’ 결의안이 하원에서 제출되기도 하였다. 이처럼 주요 국가들의 관심이 ‘그린 뉴딜’에 집중되고 있으므로, 이의 실행을 위한 국제적 협의 및 전략구상이 하반기부터 본격적으로 이루어질 것으로 전망된다. \n",
      "\t\tSummary EU는 작년 12월 효율적 자원 사용·친환경 기술 투자·에너지부문 탈탄소화·건축물 에너지 효율 향상 위한 '유럽그린 딜'을 발표했다. 의회도 올 4월 이를 촉구했고, 미국도 작년 2월 결의안을 제출했다. 이를 위한 국제 협의는 하반기부터 이뤄진다.\n"
     ]
    }
   ],
   "source": [
    "print(\"Length check\",len(passage)==len(summary),\"\\nFirst set\\n\",\"\\t\\tPassage\",passage[0],\"\\n\\t\\tSummary\",summary[0])"
   ]
  },
  {
   "cell_type": "code",
   "execution_count": 5,
   "metadata": {},
   "outputs": [],
   "source": [
    "#Tokenize text\n",
    "from konlpy.tag import Kkma \n",
    "from konlpy.utils import pprint \n"
   ]
  },
  {
   "cell_type": "code",
   "execution_count": 25,
   "metadata": {},
   "outputs": [
    {
     "name": "stdout",
     "output_type": "stream",
     "text": [
      "<class 'list'>\n"
     ]
    }
   ],
   "source": [
    "#품사 태깅하기\n",
    "kkma=Kkma()\n",
    "test=kkma.pos(passage[0])\n",
    "pprint(type(test))"
   ]
  },
  {
   "cell_type": "code",
   "execution_count": 11,
   "metadata": {},
   "outputs": [
    {
     "data": {
      "text/plain": [
       "{0: '유럽연합의 경우 작년 12월 11일 ‘유럽 그린 딜(European Green Deal)’이라는 명칭 하에 ▲친환경, 순환 경제로의 이행을 통한 자원의 효율적 사용, ▲생물다양성의 회복 및 환경오염 감소를 목표로 친환경 기술에 대한 투자, ▲에너지부문에서의 탈탄소화, ▲건축물 에너지 효율 향상 등을 위해 대규모 투자를 통한 지속가능발전 전략을 발표하였다. 또한 올해 4월 17일 유럽의회도 결의 채택을 통해 코로나19 팬데믹 이후 경제회복 프로그램에 ‘유럽그린 딜’을 포함할 것을 촉구한 바 있다. 한편 미국의 경우는 작년 2월 7일 화석연료 사용 제한과 온실가스 배출 저감 및 청정에너지 산업에의 투자를 통한 고소득 일자리 창출 등 경제위기 극복을 위한 방안으로서 ‘그린 뉴딜’ 결의안이 하원에서 제출되기도 하였다. 이처럼 주요 국가들의 관심이 ‘그린 뉴딜’에 집중되고 있으므로, 이의 실행을 위한 국제적 협의 및 전략구상이 하반기부터 본격적으로 이루어질 것으로 전망된다.'}"
      ]
     },
     "execution_count": 11,
     "metadata": {},
     "output_type": "execute_result"
    }
   ],
   "source": [
    "passage"
   ]
  },
  {
   "cell_type": "markdown",
   "metadata": {},
   "source": [
    "### 현 문제점 ###\n",
    "kkma의 pos()는 품사를 나눠주기 때문에 한 단어도 여러 개로 쪼개진다.\n",
    "따라서 의미 있는 NNG, NP, VV 튜플을 필터링 할 때 pos()으로 반환되는 리스트 안에서의 인덱스가\n",
    "문장 내에서 위치를 의미하지 않는다. \n",
    "문장 내에서 위치/소속 단어를 분별할 방법이 필요하다. \n",
    "\n",
    "일단은 TextRank만 시도해본다는 점에서 굳이 포함하지 않겠다. "
   ]
  },
  {
   "cell_type": "markdown",
   "metadata": {},
   "source": [
    "**Konlpy에서 사용자 정의 dictionary 생성하기**\n",
    "\n",
    "기본적으로 kkma는 dictionary이다.\n",
    "따라서 포함되지 않는 단어는 품사 태깅을 해줄 수 없다.\n",
    "필연적으로 더 큰 규모의 단어 삽입이 필요하다. "
   ]
  },
  {
   "cell_type": "code",
   "execution_count": 41,
   "metadata": {},
   "outputs": [
    {
     "name": "stdout",
     "output_type": "stream",
     "text": [
      "<class 'list'>\n",
      "0 th loop\t ('12', 'NR')\n",
      "0 th loop\t ('11', 'NR')\n",
      "0 th loop\t ('(', 'SS')\n",
      "0 th loop\t ('Green', 'OL')\n",
      "0 th loop\t (')', 'SS')\n",
      "0 th loop\t ('라는', 'ETD')\n",
      "0 th loop\t ('에', 'JKM')\n",
      "0 th loop\t (',', 'SP')\n",
      "0 th loop\t ('의', 'JKG')\n",
      "0 th loop\t (',', 'SP')\n",
      "0 th loop\t (',', 'SP')\n",
      "0 th loop\t ('의', 'JKG')\n",
      "0 th loop\t ('화', 'XSN')\n",
      "0 th loop\t ('▲', 'SW')\n",
      "0 th loop\t ('등', 'NNB')\n",
      "0 th loop\t ('였', 'EPT')\n",
      "0 th loop\t ('4', 'NR')\n",
      "0 th loop\t ('17', 'NR')\n",
      "0 th loop\t ('19', 'NR')\n",
      "0 th loop\t ('데', 'NNB')\n",
      "0 th loop\t ('‘', 'SS')\n",
      "0 th loop\t ('’', 'SS')\n",
      "0 th loop\t ('ㄹ', 'ETD')\n",
      "0 th loop\t ('ㄴ', 'ETD')\n",
      "0 th loop\t ('.', 'SF')\n",
      "0 th loop\t ('미국', 'NNP')\n",
      "0 th loop\t ('2', 'NR')\n",
      "0 th loop\t ('7', 'NR')\n",
      "0 th loop\t ('의', 'JKG')\n",
      "0 th loop\t ('등', 'NNB')\n",
      "0 th loop\t ('으로서', 'JKM')\n",
      "0 th loop\t ('ㄴ', 'ETD')\n",
      "0 th loop\t ('’', 'SS')\n",
      "0 th loop\t ('기', 'ETN')\n",
      "0 th loop\t ('다', 'EFN')\n",
      "0 th loop\t ('이처럼', 'MAG')\n",
      "0 th loop\t ('의', 'JKG')\n",
      "0 th loop\t ('‘', 'SS')\n",
      "0 th loop\t ('’', 'SS')\n",
      "0 th loop\t ('고', 'ECE')\n",
      "0 th loop\t (',', 'SP')\n",
      "0 th loop\t ('것', 'NNB')\n",
      "0 th loop\t ('ㄴ다', 'EFN')\n",
      "1 th loop\t ('월', 'NNM')\n",
      "1 th loop\t ('European', 'OL')\n",
      "1 th loop\t ('’', 'SS')\n",
      "1 th loop\t ('▲', 'SW')\n",
      "1 th loop\t ('▲', 'SW')\n",
      "1 th loop\t ('▲', 'SW')\n",
      "1 th loop\t (',', 'SP')\n",
      "1 th loop\t ('.', 'SF')\n",
      "1 th loop\t ('월', 'NNM')\n",
      "1 th loop\t ('믹', 'UN')\n",
      "1 th loop\t ('을', 'JKO')\n",
      "1 th loop\t ('ㄴ', 'ETD')\n",
      "1 th loop\t ('월', 'NNM')\n",
      "1 th loop\t ('‘', 'SS')\n",
      "1 th loop\t ('하', 'VX')\n",
      "1 th loop\t ('ㄴ', 'ETD')\n",
      "1 th loop\t ('으므로', 'ECD')\n",
      "1 th loop\t ('.', 'SF')\n",
      "2 th loop\t ('‘', 'SS')\n",
      "2 th loop\t ('Deal', 'OL')\n",
      "2 th loop\t ('.', 'SF')\n"
     ]
    }
   ],
   "source": [
    "#Pre-process text : 특정 품사 제거, 불용어 제거 - without pandas\n",
    "\n",
    "#1) check the positions of each word\n",
    "#2) only include NNG and VV\n",
    "#3) filter stopwords\n",
    "\n",
    "#delete stopwords\n",
    "f=open(\"stopwords.txt\",encoding=\"utf-8\")\n",
    "stopwords=kkma.pos(f.read())\n",
    "\n",
    "#new passage object with words-->words & PoS tuples / only NNG, VV\n",
    "passage_w_pos={}\n",
    "\n",
    "for index,content in passage.items():\n",
    "    \n",
    "    content_w_pos=kkma.pos(content)\n",
    "    if index==0:\n",
    "        print(type(content_w_pos))\n",
    "    for i,word in enumerate(content_w_pos):\n",
    "        if word in stopwords:\n",
    "            content_w_pos.pop(i)\n",
    "            \n",
    "    #double check\n",
    "    for k in range(5):\n",
    "        for i, word in enumerate(content_w_pos):\n",
    "            if word[1] not in ['NNG','VV']:\n",
    "                print(k,\"th loop\\t\",content_w_pos.pop(i))\n",
    "    passage_w_pos[index]=content_w_pos\n",
    "    \n"
   ]
  },
  {
   "cell_type": "code",
   "execution_count": 58,
   "metadata": {},
   "outputs": [
    {
     "name": "stdout",
     "output_type": "stream",
     "text": [
      "    vocab  pos\n",
      "0      유럽  NNG\n",
      "1      연합  NNG\n",
      "3      경우  NNG\n",
      "4      작년  NNG\n",
      "10     유럽  NNG\n",
      "..    ...  ...\n",
      "229    구상  NNG\n",
      "231   하반기  NNG\n",
      "233   본격적  NNG\n",
      "235  이루어지   VV\n",
      "239    전망  NNG\n",
      "\n",
      "[104 rows x 2 columns]\n"
     ]
    }
   ],
   "source": [
    "#Pre-process text : 특정 품사 제거, 불용어 제거 -with Pandas\n",
    "import pandas as pd\n",
    "#1) check the positions of each word\n",
    "#2) only include NNG and VV\n",
    "#3) filter stopwords\n",
    "\n",
    "#get stopwords\n",
    "f=open(\"stopwords.txt\",encoding=\"utf-8\")\n",
    "stopwords=pd.DataFrame(kkma.pos(f.read()),columns=['vocab','pos'])\n",
    "\n",
    "#new passage object with words-->words & PoS tuples / only NNG, VV\n",
    "passage_w_pos={}\n",
    "\n",
    "for index,content in passage.items():\n",
    "    \n",
    "    #dataframe으로 변경\n",
    "    content_w_pos=pd.DataFrame(kkma.pos(content),columns=['vocab','pos'])\n",
    "    #품사,stopwords 필터링\n",
    "    content_w_pos=content_w_pos[(content_w_pos.pos=='NNG')|(content_w_pos.pos=='VV')&(~content_w_pos['vocab'].isin(list(stopwords.vocab)))]\n",
    "\n",
    "    #passage_w_pos에 삽입\n",
    "    passage_w_pos[index]=content_w_pos\n",
    "    print(passage_w_pos[0])\n",
    "    \n"
   ]
  },
  {
   "cell_type": "code",
   "execution_count": 107,
   "metadata": {},
   "outputs": [],
   "source": [
    "#Edge generation: window=5\n",
    "def generate_edge(passage_w_pos,window=5):\n",
    "    edges=[]\n",
    "    #for all passages\n",
    "    for pas in passage_w_pos.values():\n",
    "        pas=pas.reset_index()\n",
    "        #for all window size\n",
    "        for i in range(1,window+1):\n",
    "            for index in range(0,pas.shape[0]-i):# for all words in passages\n",
    "                edges.append((pas.loc[index,'vocab'],pas.loc[index+i,'vocab']))\n",
    "    return edges\n",
    "#count edges\n",
    "def reduce_flips_edge(edges):\n",
    "    edges_set=[]\n",
    "    for i,edge in enumerate(edges):\n",
    "        if edge not in edges_set:\n",
    "            if edge[::-1] not in edges_set:\n",
    "                edges_set.append(edge)\n",
    "            else:\n",
    "                edges.pop(i)\n",
    "                edges.insert(i,edge[::-1])\n",
    "    return edges,edges_set\n",
    "    p\n",
    "#(A,B)=(B,A)\n",
    "from collections import Counter\n",
    "def count_edge_(edges):\n",
    "    return Counter(edges)"
   ]
  },
  {
   "cell_type": "code",
   "execution_count": 109,
   "metadata": {},
   "outputs": [
    {
     "name": "stdout",
     "output_type": "stream",
     "text": [
      "[('유럽', '연합'), ('연합', '경우'), ('경우', '작년'), ('작년', '유럽'), ('유럽', '그린'), ('그린', '디'), ('디', '명칭'), ('명칭', '하'), ('하', '친'), ('친', '환경'), ('환경', '순환'), ('순환', '경제'), ('경제', '이행'), ('이행', '통하'), ('통하', '자원'), ('자원', '효율적'), ('효율적', '사용'), ('사용', '생물'), ('생물', '다양성'), ('다양성', '회복'), ('회복', '환경오염'), ('환경오염', '감소'), ('감소', '목표'), ('목표', '치'), ('치', '환경'), ('환경', '기술'), ('기술', '투자'), ('투자', '에너지'), ('에너지', '부문'), ('부문', '탈'), ('탈', '탄소'), ('탄소', '건축물'), ('건축물', '에너지'), ('에너지', '효율'), ('효율', '향상'), ('향상', '대규모'), ('대규모', '투자'), ('투자', '통하'), ('통하', '지속'), ('지속', '가능'), ('가능', '발전'), ('발전', '전략'), ('전략', '발표'), ('발표', '올해'), ('올해', '유럽'), ('유럽', '의회'), ('의회', '결의'), ('결의', '채택'), ('채택', '통하'), ('통하', '코로나'), ('코로나', '패'), ('패', '이후'), ('이후', '경제'), ('경제', '회복'), ('회복', '프로그램'), ('프로그램', '유럽'), ('유럽', '그린'), ('그린', '디'), ('디', '을'), ('을', '포함'), ('포함', '촉구'), ('촉구', '경우'), ('경우', '작년'), ('작년', '화석'), ('화석', '연료'), ('연료', '사용'), ('사용', '제한'), ('제한', '온실'), ('온실', '가스'), ('가스', '배출'), ('배출', '저감'), ('저감', '청정'), ('청정', '에너지'), ('에너지', '산업'), ('산업', '투자'), ('투자', '통하'), ('통하', '고소득'), ('고소득', '일자리'), ('일자리', '창출'), ('창출', '경제'), ('경제', '위기'), ('위기', '극복'), ('극복', '방안'), ('방안', '뉴딜'), ('뉴딜', '결의'), ('결의', '안이'), ('안이', '하원'), ('하원', '제출'), ('제출', '주요'), ('주요', '국가'), ('국가', '관심'), ('관심', '뉴딜'), ('뉴딜', '집중'), ('집중', '이의'), ('이의', '실행'), ('실행', '국제적'), ('국제적', '협의'), ('협의', '전략'), ('전략', '구상'), ('구상', '하반기'), ('하반기', '본격적'), ('본격적', '이루어지'), ('이루어지', '전망'), ('유럽', '경우'), ('연합', '작년'), ('경우', '유럽'), ('작년', '그린'), ('유럽', '디'), ('그린', '명칭'), ('디', '하'), ('명칭', '친'), ('하', '환경'), ('친', '순환'), ('환경', '경제'), ('순환', '이행'), ('경제', '통하'), ('이행', '자원'), ('통하', '효율적'), ('자원', '사용'), ('효율적', '생물'), ('사용', '다양성'), ('생물', '회복'), ('다양성', '환경오염'), ('회복', '감소'), ('환경오염', '목표'), ('감소', '치'), ('목표', '환경'), ('치', '기술'), ('환경', '투자'), ('기술', '에너지'), ('투자', '부문'), ('에너지', '탈'), ('부문', '탄소'), ('탈', '건축물'), ('탄소', '에너지'), ('건축물', '효율'), ('에너지', '향상'), ('효율', '대규모'), ('향상', '투자'), ('대규모', '통하'), ('투자', '지속'), ('통하', '가능'), ('지속', '발전'), ('가능', '전략'), ('발전', '발표'), ('전략', '올해'), ('발표', '유럽'), ('올해', '의회'), ('유럽', '결의'), ('의회', '채택'), ('결의', '통하'), ('채택', '코로나'), ('통하', '패'), ('코로나', '이후'), ('패', '경제'), ('이후', '회복'), ('경제', '프로그램'), ('회복', '유럽'), ('프로그램', '그린'), ('유럽', '디'), ('그린', '을'), ('디', '포함'), ('을', '촉구'), ('포함', '경우'), ('촉구', '작년'), ('경우', '화석'), ('작년', '연료'), ('화석', '사용'), ('연료', '제한'), ('사용', '온실'), ('제한', '가스'), ('온실', '배출'), ('가스', '저감'), ('배출', '청정'), ('저감', '에너지'), ('청정', '산업'), ('에너지', '투자'), ('산업', '통하'), ('투자', '고소득'), ('통하', '일자리'), ('고소득', '창출'), ('일자리', '경제'), ('창출', '위기'), ('경제', '극복'), ('위기', '방안'), ('극복', '뉴딜'), ('방안', '결의'), ('뉴딜', '안이'), ('결의', '하원'), ('안이', '제출'), ('하원', '주요'), ('제출', '국가'), ('주요', '관심'), ('국가', '뉴딜'), ('관심', '집중'), ('뉴딜', '이의'), ('집중', '실행'), ('이의', '국제적'), ('실행', '협의'), ('국제적', '전략'), ('협의', '구상'), ('전략', '하반기'), ('구상', '본격적'), ('하반기', '이루어지'), ('본격적', '전망'), ('유럽', '작년'), ('연합', '유럽'), ('경우', '그린'), ('작년', '디'), ('유럽', '명칭'), ('그린', '하'), ('디', '친'), ('명칭', '환경'), ('하', '순환'), ('친', '경제'), ('환경', '이행'), ('순환', '통하'), ('경제', '자원'), ('이행', '효율적'), ('통하', '사용'), ('자원', '생물'), ('효율적', '다양성'), ('사용', '회복'), ('생물', '환경오염'), ('다양성', '감소'), ('회복', '목표'), ('환경오염', '치'), ('감소', '환경'), ('목표', '기술'), ('치', '투자'), ('환경', '에너지'), ('기술', '부문'), ('투자', '탈'), ('에너지', '탄소'), ('부문', '건축물'), ('탈', '에너지'), ('탄소', '효율'), ('건축물', '향상'), ('에너지', '대규모'), ('효율', '투자'), ('향상', '통하'), ('대규모', '지속'), ('투자', '가능'), ('통하', '발전'), ('지속', '전략'), ('가능', '발표'), ('발전', '올해'), ('전략', '유럽'), ('발표', '의회'), ('올해', '결의'), ('유럽', '채택'), ('의회', '통하'), ('결의', '코로나'), ('채택', '패'), ('통하', '이후'), ('코로나', '경제'), ('패', '회복'), ('이후', '프로그램'), ('경제', '유럽'), ('회복', '그린'), ('프로그램', '디'), ('유럽', '을'), ('그린', '포함'), ('디', '촉구'), ('을', '경우'), ('포함', '작년'), ('촉구', '화석'), ('경우', '연료'), ('작년', '사용'), ('화석', '제한'), ('연료', '온실'), ('사용', '가스'), ('제한', '배출'), ('온실', '저감'), ('가스', '청정'), ('배출', '에너지'), ('저감', '산업'), ('청정', '투자'), ('에너지', '통하'), ('산업', '고소득'), ('투자', '일자리'), ('통하', '창출'), ('고소득', '경제'), ('일자리', '위기'), ('창출', '극복'), ('경제', '방안'), ('위기', '뉴딜'), ('극복', '결의'), ('방안', '안이'), ('뉴딜', '하원'), ('결의', '제출'), ('안이', '주요'), ('하원', '국가'), ('제출', '관심'), ('주요', '뉴딜'), ('국가', '집중'), ('관심', '이의'), ('뉴딜', '실행'), ('집중', '국제적'), ('이의', '협의'), ('실행', '전략'), ('국제적', '구상'), ('협의', '하반기'), ('전략', '본격적'), ('구상', '이루어지'), ('하반기', '전망'), ('유럽', '유럽'), ('연합', '그린'), ('경우', '디'), ('작년', '명칭'), ('유럽', '하'), ('그린', '친'), ('디', '환경'), ('명칭', '순환'), ('하', '경제'), ('친', '이행'), ('환경', '통하'), ('순환', '자원'), ('경제', '효율적'), ('이행', '사용'), ('통하', '생물'), ('자원', '다양성'), ('효율적', '회복'), ('사용', '환경오염'), ('생물', '감소'), ('다양성', '목표'), ('회복', '치'), ('환경오염', '환경'), ('감소', '기술'), ('목표', '투자'), ('치', '에너지'), ('환경', '부문'), ('기술', '탈'), ('투자', '탄소'), ('에너지', '건축물'), ('부문', '에너지'), ('탈', '효율'), ('탄소', '향상'), ('건축물', '대규모'), ('에너지', '투자'), ('효율', '통하'), ('향상', '지속'), ('대규모', '가능'), ('투자', '발전'), ('통하', '전략'), ('지속', '발표'), ('가능', '올해'), ('발전', '유럽'), ('전략', '의회'), ('발표', '결의'), ('올해', '채택'), ('유럽', '통하'), ('의회', '코로나'), ('결의', '패'), ('채택', '이후'), ('통하', '경제'), ('코로나', '회복'), ('패', '프로그램'), ('이후', '유럽'), ('경제', '그린'), ('회복', '디'), ('프로그램', '을'), ('유럽', '포함'), ('그린', '촉구'), ('디', '경우'), ('을', '작년'), ('포함', '화석'), ('촉구', '연료'), ('경우', '사용'), ('작년', '제한'), ('화석', '온실'), ('연료', '가스'), ('사용', '배출'), ('제한', '저감'), ('온실', '청정'), ('가스', '에너지'), ('배출', '산업'), ('저감', '투자'), ('청정', '통하'), ('에너지', '고소득'), ('산업', '일자리'), ('투자', '창출'), ('통하', '경제'), ('고소득', '위기'), ('일자리', '극복'), ('창출', '방안'), ('경제', '뉴딜'), ('위기', '결의'), ('극복', '안이'), ('방안', '하원'), ('뉴딜', '제출'), ('결의', '주요'), ('안이', '국가'), ('하원', '관심'), ('제출', '뉴딜'), ('주요', '집중'), ('국가', '이의'), ('관심', '실행'), ('뉴딜', '국제적'), ('집중', '협의'), ('이의', '전략'), ('실행', '구상'), ('국제적', '하반기'), ('협의', '본격적'), ('전략', '이루어지'), ('구상', '전망'), ('유럽', '그린'), ('연합', '디'), ('경우', '명칭'), ('작년', '하'), ('유럽', '친'), ('그린', '환경'), ('디', '순환'), ('명칭', '경제'), ('하', '이행'), ('친', '통하'), ('환경', '자원'), ('순환', '효율적'), ('경제', '사용'), ('이행', '생물'), ('통하', '다양성'), ('자원', '회복'), ('효율적', '환경오염'), ('사용', '감소'), ('생물', '목표'), ('다양성', '치'), ('회복', '환경'), ('환경오염', '기술'), ('감소', '투자'), ('목표', '에너지'), ('치', '부문'), ('환경', '탈'), ('기술', '탄소'), ('투자', '건축물'), ('에너지', '에너지'), ('부문', '효율'), ('탈', '향상'), ('탄소', '대규모'), ('건축물', '투자'), ('에너지', '통하'), ('효율', '지속'), ('향상', '가능'), ('대규모', '발전'), ('투자', '전략'), ('통하', '발표'), ('지속', '올해'), ('가능', '유럽'), ('발전', '의회'), ('전략', '결의'), ('발표', '채택'), ('올해', '통하'), ('유럽', '코로나'), ('의회', '패'), ('결의', '이후'), ('채택', '경제'), ('통하', '회복'), ('코로나', '프로그램'), ('패', '유럽'), ('이후', '그린'), ('경제', '디'), ('회복', '을'), ('프로그램', '포함'), ('유럽', '촉구'), ('그린', '경우'), ('디', '작년'), ('을', '화석'), ('포함', '연료'), ('촉구', '사용'), ('경우', '제한'), ('작년', '온실'), ('화석', '가스'), ('연료', '배출'), ('사용', '저감'), ('제한', '청정'), ('온실', '에너지'), ('가스', '산업'), ('배출', '투자'), ('저감', '통하'), ('청정', '고소득'), ('에너지', '일자리'), ('산업', '창출'), ('투자', '경제'), ('통하', '위기'), ('고소득', '극복'), ('일자리', '방안'), ('창출', '뉴딜'), ('경제', '결의'), ('위기', '안이'), ('극복', '하원'), ('방안', '제출'), ('뉴딜', '주요'), ('결의', '국가'), ('안이', '관심'), ('하원', '뉴딜'), ('제출', '집중'), ('주요', '이의'), ('국가', '실행'), ('관심', '국제적'), ('뉴딜', '협의'), ('집중', '전략'), ('이의', '구상'), ('실행', '하반기'), ('국제적', '본격적'), ('협의', '이루어지'), ('전략', '전망')]\n"
     ]
    }
   ],
   "source": [
    "edges=generate_edge(passage_w_pos)\n",
    "print(edges)"
   ]
  },
  {
   "cell_type": "code",
   "execution_count": 77,
   "metadata": {},
   "outputs": [
    {
     "data": {
      "text/plain": [
       "numpy.int64"
      ]
     },
     "execution_count": 77,
     "metadata": {},
     "output_type": "execute_result"
    }
   ],
   "source": [
    "text=passage_w_pos[0]\n",
    "type(text.index[-1])"
   ]
  },
  {
   "cell_type": "code",
   "execution_count": null,
   "metadata": {},
   "outputs": [],
   "source": [
    "#Calculate Importance Score\n",
    "\n",
    "#1) set S_i=k \n",
    "\n",
    "#2) get k"
   ]
  },
  {
   "cell_type": "code",
   "execution_count": null,
   "metadata": {},
   "outputs": [],
   "source": [
    "#Get result"
   ]
  },
  {
   "cell_type": "markdown",
   "metadata": {},
   "source": [
    "<h3>결과 평가</h3>\n",
    "\n",
    "데이터셋은 passage인자와 summary인자가 있다.\n",
    "\n",
    "<h4> 답안지 만들기 </h4>\n",
    "<ol>\n",
    "\t<li>각자를 토큰화한 것을 비교해 summary 속의 단어 토큰 중 passage의 것과 같았던 것을 간추린다. </li>\n",
    "\t<li>passage의 인자 중 일반명사는 중요도를 절반으로 선정한다. </li>\n",
    "</ol>\n",
    "\n",
    "<h4> F-feature 계산하기</h4>\n",
    "<ol>\n",
    "\t<li>Precision을 구한다 : |교집합|/|TR 결과|</ol>\n",
    "\t<li>Recall을 구한다: |교집합|/|답안지|</ol>\n",
    "\t<li>F-feature을 구한다: 2*P*R/(P+R)</ol>\n",
    "</ol>\n",
    "\n"
   ]
  },
  {
   "cell_type": "code",
   "execution_count": null,
   "metadata": {},
   "outputs": [],
   "source": [
    "#Compare results"
   ]
  }
 ],
 "metadata": {
  "interpreter": {
   "hash": "b5065fce0c556be340c30aff3e8f750212a18ed8a8d4d7aff9a4ff1201288b98"
  },
  "kernelspec": {
   "display_name": "Python 3.9.6 64-bit",
   "language": "python",
   "name": "python3"
  },
  "language_info": {
   "codemirror_mode": {
    "name": "ipython",
    "version": 3
   },
   "file_extension": ".py",
   "mimetype": "text/x-python",
   "name": "python",
   "nbconvert_exporter": "python",
   "pygments_lexer": "ipython3",
   "version": "3.9.6"
  },
  "orig_nbformat": 4
 },
 "nbformat": 4,
 "nbformat_minor": 2
}
