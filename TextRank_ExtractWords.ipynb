{
 "cells": [
  {
   "cell_type": "markdown",
   "metadata": {},
   "source": [
    "<h1> 기본 텍스트 랭크 작성- 단어 추출</h1>\n",
    "<ul>\n",
    "\t<li>unordered</li>\n",
    "\t<li>undirected</li>\n",
    "\t<li>window=5</li>\n",
    "\t<li>co-occurrence based</li>\n",
    "</ul>"
   ]
  },
  {
   "cell_type": "code",
   "execution_count": 1,
   "metadata": {},
   "outputs": [],
   "source": [
    "import os\n",
    "import json\n"
   ]
  },
  {
   "cell_type": "code",
   "execution_count": 2,
   "metadata": {},
   "outputs": [
    {
     "name": "stdout",
     "output_type": "stream",
     "text": [
      "CNTS-00047965957_40_41-0.json\n",
      "{'passage_id': 'CNTS-00047965957_40_41-0', 'metadata': {'doc_id': 'CNTS-00047965957', 'doc_type': '도서', 'doc_name': '후진타오 시대의 중국정치', 'author': '조영남', 'publisher': '나남출판', 'published_year': '2006', 'kdc_label': '정치학', 'kdc_code': '340'}, 'chapter': '1부 중국정치개혁의 성과와 모색 1장 정치개혁의 성과와 과제', 'passage': ' 선거개혁도 유사한 문제가 있다. 유권자들은 1979년 현급 지방인대 직접선거 개혁 –제한적 경쟁선거의 도입, 유권자의 후보추천권 보장 – 이후 좀 더 적극적이고 능동적으로 선거에 참여한다. 그래서 1990년대에 들어 직접선거는 정치교육과 사회화를 통해 국민의 정권에 대한 정통성과 수용성을 높이려는 공산당의 동원수단에서 벗어나 점차로 국민의 의지와 요구를 실현하는 수단으로 발전하였다. 그렇지만 중국의 모든 선거는 공산당 일당지배 체제하에 진행된다는 근본적 한계 외에도, 성급 지방인대 대표와 전국인대 대표선거는 여전히 간접선거로 실시되고 있으며, 중앙정부는 말할 것도 없고 지방정부 수장들도 모두 의회에서 간접선거로 선출된다는 문제점이 있다. 이 때문에 선거를 통한 국민의 정치참여 확대도 전보다 나아지기는 했지만 여전히 많은 한계를 갖는다.', 'summary': ' 1979년 지방인대 직접선거 개혁이후 유권자들은 적극적이고 능동적으로 선거에 참여했다. 1990년대에 직접선거는 공산당의 동원수단에서 벗어나 국민의 의지와 요구를 실현하는 수단으로 발전했지만 여전히 문제점과 한계를 가졌다.'}\n"
     ]
    }
   ],
   "source": [
    "#test code\n",
    "\n",
    "#path 만들기\n",
    "dir=\"./2020-02-019.도서자료요약_Sample\"\n",
    "sample_file=os.listdir(\"./2020-02-019.도서자료요약_Sample\")[0]\n",
    "path=dir+\"/\"+sample_file \n",
    "#file descriptor 생성하고 내용 읽어내기\n",
    "fstr=open(path,encoding='utf-8').read()\n",
    "print(sample_file)\n",
    "#json decode 하기\n",
    "sample_json=json.loads(fstr)\n",
    "print(sample_json)"
   ]
  },
  {
   "cell_type": "code",
   "execution_count": 3,
   "metadata": {},
   "outputs": [],
   "source": [
    "#Set example text\n",
    "\n",
    "\n",
    "#1) open json file\n",
    "## get path\n",
    "## get file descriptor\n",
    "## get str\n",
    "\n",
    "dir= \"./2020-02-019.도서자료요약_Sample\"\n",
    "jsonfd=[]\n",
    "jsonstr=[]\n",
    "for file in os.listdir(dir):\n",
    "    jsonfd.append(open(dir+\"/\"+file, encoding=\"utf-8\"))\n",
    "    jsonstr.append(jsonfd[-1].read())\n",
    "\n",
    "#2) select passages and summaries\n",
    "jsonobj=[]\n",
    "count=0\n",
    "id={}\n",
    "passage={}\n",
    "summary={}\n",
    "for file in jsonstr:\n",
    "    obj=json.loads(file)\n",
    "    jsonobj.append(obj)\n",
    "    id[count]=obj[\"passage_id\"]\n",
    "    passage[count]=obj[\"passage\"]\n",
    "    summary[count]=obj[\"summary\"]\n"
   ]
  },
  {
   "cell_type": "code",
   "execution_count": 4,
   "metadata": {},
   "outputs": [
    {
     "name": "stdout",
     "output_type": "stream",
     "text": [
      "Length check True \n",
      "First set\n",
      " \t\tPassage 유럽연합의 경우 작년 12월 11일 ‘유럽 그린 딜(European Green Deal)’이라는 명칭 하에 ▲친환경, 순환 경제로의 이행을 통한 자원의 효율적 사용, ▲생물다양성의 회복 및 환경오염 감소를 목표로 친환경 기술에 대한 투자, ▲에너지부문에서의 탈탄소화, ▲건축물 에너지 효율 향상 등을 위해 대규모 투자를 통한 지속가능발전 전략을 발표하였다. 또한 올해 4월 17일 유럽의회도 결의 채택을 통해 코로나19 팬데믹 이후 경제회복 프로그램에 ‘유럽그린 딜’을 포함할 것을 촉구한 바 있다. 한편 미국의 경우는 작년 2월 7일 화석연료 사용 제한과 온실가스 배출 저감 및 청정에너지 산업에의 투자를 통한 고소득 일자리 창출 등 경제위기 극복을 위한 방안으로서 ‘그린 뉴딜’ 결의안이 하원에서 제출되기도 하였다. 이처럼 주요 국가들의 관심이 ‘그린 뉴딜’에 집중되고 있으므로, 이의 실행을 위한 국제적 협의 및 전략구상이 하반기부터 본격적으로 이루어질 것으로 전망된다. \n",
      "\t\tSummary EU는 작년 12월 효율적 자원 사용·친환경 기술 투자·에너지부문 탈탄소화·건축물 에너지 효율 향상 위한 '유럽그린 딜'을 발표했다. 의회도 올 4월 이를 촉구했고, 미국도 작년 2월 결의안을 제출했다. 이를 위한 국제 협의는 하반기부터 이뤄진다.\n"
     ]
    }
   ],
   "source": [
    "print(\"Length check\",len(passage)==len(summary),\"\\nFirst set\\n\",\"\\t\\tPassage\",passage[0],\"\\n\\t\\tSummary\",summary[0])"
   ]
  },
  {
   "cell_type": "code",
   "execution_count": 9,
   "metadata": {},
   "outputs": [],
   "source": [
    "#Tokenize text\n",
    "from konlpy.tag import Kkma \n",
    "from konlpy.utils import pprint \n"
   ]
  },
  {
   "cell_type": "code",
   "execution_count": null,
   "metadata": {},
   "outputs": [],
   "source": [
    "\n",
    "#품사 태깅하기\n",
    "kkma=Kkma()\n",
    "test=kkma.pos(passage[0])\n",
    "pprint(test)"
   ]
  },
  {
   "cell_type": "code",
   "execution_count": null,
   "metadata": {},
   "outputs": [],
   "source": [
    "words='''\n",
    "하나\n",
    "둘 \n",
    "셋\n",
    "예를 들어서'''\n",
    "print(kkma.pos(words))"
   ]
  },
  {
   "cell_type": "markdown",
   "metadata": {},
   "source": [
    "### 현 문제점 ###\n",
    "kkma의 pos()는 품사를 나눠주기 때문에 한 단어도 여러 개로 쪼개진다.\n",
    "따라서 의미 있는 NNG, NP, VV 튜플을 필터링 할 때 pos()으로 반환되는 리스트 안에서의 인덱스가\n",
    "문장 내에서 위치를 의미하지 않는다. \n",
    "문장 내에서 위치/소속 단어를 분별할 방법이 필요하다. \n",
    "\n",
    "일단은 TextRank만 시도해본다는 점에서 굳이 포함하지 않겠다. "
   ]
  },
  {
   "cell_type": "markdown",
   "metadata": {},
   "source": [
    "**Konlpy에서 사용자 정의 dictionary 생성하기**\n",
    "\n",
    "기본적으로 kkma는 dictionary이다.\n",
    "따라서 포함되지 않는 단어는 품사 태깅을 해줄 수 없다.\n",
    "필연적으로 더 큰 규모의 단어 삽입이 필요하다. "
   ]
  },
  {
   "cell_type": "code",
   "execution_count": 19,
   "metadata": {},
   "outputs": [
    {
     "data": {
      "text/plain": [
       "'유럽연합의 경우 작년 12월 11일 ‘유럽 그린 딜(European Green Deal)’이라는 명칭 하에 ▲친환경, 순환 경제로의 이행을 통한 자원의 효율적 사용, ▲생물다양성의 회복 및 환경오염 감소를 목표로 친환경 기술에 대한 투자, ▲에너지부문에서의 탈탄소화, ▲건축물 에너지 효율 향상 등을 위해 대규모 투자를 통한 지속가능발전 전략을 발표하였다. 또한 올해 4월 17일 유럽의회도 결의 채택을 통해 코로나19 팬데믹 이후 경제회복 프로그램에 ‘유럽그린 딜’을 포함할 것을 촉구한 바 있다. 한편 미국의 경우는 작년 2월 7일 화석연료 사용 제한과 온실가스 배출 저감 및 청정에너지 산업에의 투자를 통한 고소득 일자리 창출 등 경제위기 극복을 위한 방안으로서 ‘그린 뉴딜’ 결의안이 하원에서 제출되기도 하였다. 이처럼 주요 국가들의 관심이 ‘그린 뉴딜’에 집중되고 있으므로, 이의 실행을 위한 국제적 협의 및 전략구상이 하반기부터 본격적으로 이루어질 것으로 전망된다.'"
      ]
     },
     "execution_count": 19,
     "metadata": {},
     "output_type": "execute_result"
    }
   ],
   "source": [
    "passage[0]"
   ]
  },
  {
   "cell_type": "code",
   "execution_count": 18,
   "metadata": {},
   "outputs": [
    {
     "ename": "AssertionError",
     "evalue": "phrase input should be string, not <class 'int'>",
     "output_type": "error",
     "traceback": [
      "\u001b[1;31m---------------------------------------------------------------------------\u001b[0m",
      "\u001b[1;31mAssertionError\u001b[0m                            Traceback (most recent call last)",
      "\u001b[1;32m~\\AppData\\Local\\Temp/ipykernel_31976/1803204778.py\u001b[0m in \u001b[0;36m<module>\u001b[1;34m\u001b[0m\n\u001b[0;32m     13\u001b[0m \u001b[0mpassage_w_pos\u001b[0m\u001b[1;33m=\u001b[0m\u001b[1;33m[\u001b[0m\u001b[1;33m]\u001b[0m\u001b[1;33m\u001b[0m\u001b[1;33m\u001b[0m\u001b[0m\n\u001b[0;32m     14\u001b[0m \u001b[1;32mfor\u001b[0m \u001b[0mcontent\u001b[0m \u001b[1;32min\u001b[0m \u001b[0mpassage\u001b[0m\u001b[1;33m:\u001b[0m\u001b[1;33m\u001b[0m\u001b[1;33m\u001b[0m\u001b[0m\n\u001b[1;32m---> 15\u001b[1;33m     \u001b[0mcontent_w_pos\u001b[0m\u001b[1;33m=\u001b[0m\u001b[0mkkma\u001b[0m\u001b[1;33m.\u001b[0m\u001b[0mpos\u001b[0m\u001b[1;33m(\u001b[0m\u001b[0mcontent\u001b[0m\u001b[1;33m)\u001b[0m\u001b[1;33m\u001b[0m\u001b[1;33m\u001b[0m\u001b[0m\n\u001b[0m\u001b[0;32m     16\u001b[0m     \u001b[1;31m#positions table of only NNG and VV words\u001b[0m\u001b[1;33m\u001b[0m\u001b[1;33m\u001b[0m\u001b[1;33m\u001b[0m\u001b[0m\n\u001b[0;32m     17\u001b[0m     \u001b[1;32mfor\u001b[0m \u001b[0mword\u001b[0m \u001b[1;32min\u001b[0m \u001b[0mcontent_w_pos\u001b[0m\u001b[1;33m:\u001b[0m\u001b[1;33m\u001b[0m\u001b[1;33m\u001b[0m\u001b[0m\n",
      "\u001b[1;32m~\\AppData\\Local\\Programs\\Python\\Python39\\lib\\site-packages\\konlpy\\tag\\_kkma.py\u001b[0m in \u001b[0;36mpos\u001b[1;34m(self, phrase, flatten, join)\u001b[0m\n\u001b[0;32m     62\u001b[0m         \u001b[1;33m:\u001b[0m\u001b[0mparam\u001b[0m \u001b[0mjoin\u001b[0m\u001b[1;33m:\u001b[0m \u001b[0mIf\u001b[0m \u001b[1;32mTrue\u001b[0m\u001b[1;33m,\u001b[0m \u001b[0mreturns\u001b[0m \u001b[0mjoined\u001b[0m \u001b[0msets\u001b[0m \u001b[0mof\u001b[0m \u001b[0mmorph\u001b[0m \u001b[1;32mand\u001b[0m \u001b[0mtag\u001b[0m\u001b[1;33m.\u001b[0m\u001b[1;33m\u001b[0m\u001b[1;33m\u001b[0m\u001b[0m\n\u001b[0;32m     63\u001b[0m         \"\"\"\n\u001b[1;32m---> 64\u001b[1;33m         \u001b[0mvalidate_phrase_inputs\u001b[0m\u001b[1;33m(\u001b[0m\u001b[0mphrase\u001b[0m\u001b[1;33m)\u001b[0m\u001b[1;33m\u001b[0m\u001b[1;33m\u001b[0m\u001b[0m\n\u001b[0m\u001b[0;32m     65\u001b[0m \u001b[1;33m\u001b[0m\u001b[0m\n\u001b[0;32m     66\u001b[0m         \u001b[0msentences\u001b[0m \u001b[1;33m=\u001b[0m \u001b[0mself\u001b[0m\u001b[1;33m.\u001b[0m\u001b[0mjki\u001b[0m\u001b[1;33m.\u001b[0m\u001b[0mmorphAnalyzer\u001b[0m\u001b[1;33m(\u001b[0m\u001b[0mphrase\u001b[0m\u001b[1;33m)\u001b[0m\u001b[1;33m\u001b[0m\u001b[1;33m\u001b[0m\u001b[0m\n",
      "\u001b[1;32m~\\AppData\\Local\\Programs\\Python\\Python39\\lib\\site-packages\\konlpy\\tag\\_common.py\u001b[0m in \u001b[0;36mvalidate_phrase_inputs\u001b[1;34m(phrase)\u001b[0m\n\u001b[0;32m     18\u001b[0m     \"\"\"\n\u001b[0;32m     19\u001b[0m     \u001b[0mmsg\u001b[0m \u001b[1;33m=\u001b[0m \u001b[1;34m\"phrase input should be string, not %s\"\u001b[0m \u001b[1;33m%\u001b[0m \u001b[0mtype\u001b[0m\u001b[1;33m(\u001b[0m\u001b[0mphrase\u001b[0m\u001b[1;33m)\u001b[0m\u001b[1;33m\u001b[0m\u001b[1;33m\u001b[0m\u001b[0m\n\u001b[1;32m---> 20\u001b[1;33m     \u001b[1;32massert\u001b[0m \u001b[0misinstance\u001b[0m\u001b[1;33m(\u001b[0m\u001b[0mphrase\u001b[0m\u001b[1;33m,\u001b[0m \u001b[0mbasestring\u001b[0m\u001b[1;33m)\u001b[0m\u001b[1;33m,\u001b[0m \u001b[0mmsg\u001b[0m\u001b[1;33m\u001b[0m\u001b[1;33m\u001b[0m\u001b[0m\n\u001b[0m",
      "\u001b[1;31mAssertionError\u001b[0m: phrase input should be string, not <class 'int'>"
     ]
    }
   ],
   "source": [
    "#Pre-process text : 특정 품사 제거, 불용어 제거\n",
    "\n",
    "#how can we get the positions of only the desired vocabularies?\n",
    "#-->get the position, then eliminate words? (current) \n",
    "#-->get the words, then find the position? \n",
    "\n",
    "#1) check the positions of each word\n",
    "#2) only include NNG and VV\n",
    "#3) filter stopwords\n",
    "#delete additional stopwords\n",
    "f=open(\"stopwords.txt\",encoding=\"utf-8\")\n",
    "stopwords=kkma.pos(f.read())\n",
    "passage_w_pos=[]\n",
    "for content in passage:\n",
    "    content_w_pos=kkma.pos(content)\n",
    "    #positions table of only NNG and VV words\n",
    "    for word in content_w_pos:\n",
    "        if word[1] in [\"NNG\",\"VV\"]:\n",
    "            content_w_pos.pop(word)\n",
    "        if word in stopwords:\n",
    "            content_w_pos.pop(word)\n",
    "    passage_w_pos.append(content_w_pos)\n",
    "    \n"
   ]
  },
  {
   "cell_type": "code",
   "execution_count": null,
   "metadata": {},
   "outputs": [],
   "source": []
  },
  {
   "cell_type": "code",
   "execution_count": null,
   "metadata": {},
   "outputs": [],
   "source": []
  },
  {
   "cell_type": "code",
   "execution_count": null,
   "metadata": {},
   "outputs": [],
   "source": []
  },
  {
   "cell_type": "code",
   "execution_count": null,
   "metadata": {},
   "outputs": [],
   "source": [
    "#Edge generation: window=5"
   ]
  },
  {
   "cell_type": "code",
   "execution_count": null,
   "metadata": {},
   "outputs": [],
   "source": [
    "#Calculate Importance Score\n",
    "\n",
    "#1) set S_i=k \n",
    "\n",
    "#2) get k"
   ]
  },
  {
   "cell_type": "code",
   "execution_count": null,
   "metadata": {},
   "outputs": [],
   "source": [
    "#Get result"
   ]
  },
  {
   "cell_type": "markdown",
   "metadata": {},
   "source": [
    "<h3>결과 평가</h3>\n",
    "\n",
    "데이터셋은 passage인자와 summary인자가 있다.\n",
    "\n",
    "<h4> 답안지 만들기 </h4>\n",
    "<ol>\n",
    "\t<li>각자를 토큰화한 것을 비교해 summary 속의 단어 토큰 중 passage의 것과 같았던 것을 간추린다. </li>\n",
    "\t<li>passage의 인자 중 일반명사는 중요도를 절반으로 선정한다. </li>\n",
    "</ol>\n",
    "\n",
    "<h4> F-feature 계산하기</h4>\n",
    "<ol>\n",
    "\t<li>Precision을 구한다 : |교집합|/|TR 결과|</ol>\n",
    "\t<li>Recall을 구한다: |교집합|/|답안지|</ol>\n",
    "\t<li>F-feature을 구한다: 2*P*R/(P+R)</ol>\n",
    "</ol>\n",
    "\n"
   ]
  },
  {
   "cell_type": "code",
   "execution_count": null,
   "metadata": {},
   "outputs": [],
   "source": [
    "#Compare results"
   ]
  }
 ],
 "metadata": {
  "interpreter": {
   "hash": "b5065fce0c556be340c30aff3e8f750212a18ed8a8d4d7aff9a4ff1201288b98"
  },
  "kernelspec": {
   "display_name": "Python 3.9.6 64-bit",
   "language": "python",
   "name": "python3"
  },
  "language_info": {
   "codemirror_mode": {
    "name": "ipython",
    "version": 3
   },
   "file_extension": ".py",
   "mimetype": "text/x-python",
   "name": "python",
   "nbconvert_exporter": "python",
   "pygments_lexer": "ipython3",
   "version": "3.9.6"
  },
  "orig_nbformat": 4
 },
 "nbformat": 4,
 "nbformat_minor": 2
}
