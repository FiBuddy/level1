{
 "cells": [
  {
   "cell_type": "code",
   "execution_count": 47,
   "metadata": {},
   "outputs": [],
   "source": [
    "import os\n",
    "import json\n",
    "#Tokenize text\n",
    "from konlpy.tag import Kkma \n",
    "from konlpy.utils import pprint \n",
    "import pandas as pd\n",
    "import numpy as np"
   ]
  },
  {
   "cell_type": "code",
   "execution_count": 112,
   "metadata": {},
   "outputs": [],
   "source": [
    "\n",
    "\n",
    "class ParseText:\n",
    "    def __init__(self):\n",
    "        self.dir=\"\"\n",
    "        self.stopwords=pd.DataFrame(columns=['vocab','pos'])\n",
    "        self.data=[]\n",
    "        self.parsedData=[]\n",
    "        self.kkma=None\n",
    "        \n",
    "    def openAllJson(self,dirname): #\"./2020-02-019.도서자료요약_Sample\"\n",
    "        self.dir+=dirname## get path\n",
    "        #1) open json file\n",
    "        jsonobj=[]\n",
    "        for file in os.listdir(dirname):\n",
    "            jsonfd=open(dirname+\"/\"+file, encoding=\"utf-8\")## get file descriptor\n",
    "            jsonstr=jsonfd.read()## get str\n",
    "            jsonobj.append(jsonstr)\n",
    "        \n",
    "        return jsonobj\n",
    "    \n",
    "    def organizeFile(self,jsonobj):\n",
    "\t\t#2) select passages and summaries\n",
    "        file=json.loads(jsonobj)\n",
    "        return {'id':file[\"passage_id\"],'passage':file[\"passage\"],'summary':file[\"summary\"]}\n",
    "    \n",
    "    def organizeFiles(self,dirname):\n",
    "        jsonobj=self.openAllJson(dirname)\n",
    "        for i in range(len(jsonobj)):\n",
    "            self.data.append(self.organizeFile(jsonobj[i]))\n",
    "        \n",
    "    \n",
    "    def setStopwords(self,path):#stopwords.txt\n",
    "        self.kkma=Kkma()\n",
    "        f=open(path,encoding=\"utf-8\")\n",
    "        self.stopwords=pd.concat((self.stopwords,pd.DataFrame(self.kkma.pos(f.read()),columns=['vocab','pos'])),axis=0)\n",
    "    \n",
    "    def preprocessFile(self,data):\n",
    "        kkma=Kkma()\n",
    "        passage=data['passage']\n",
    "        word_dict=pd.DataFrame(columns=['vocab','pos','mundan_id','sent_id','eojeol_id'])\n",
    "        for i,mundan in enumerate(passage.split('\\n')): #i는 n 번째 문단이라는 뜻\n",
    "            for j, sent in enumerate(mundan.split('.')):#j 는 n번째 문장이라는 뜻\n",
    "                for k, word in enumerate(sent.split(' ')):#k는 n번째 어절이라는 뜻 \n",
    "                    passage_hs=kkma.pos(word) #list in list\n",
    "                    for hs in passage_hs: #어절 내부의 위치는 기록하지 않는다. 어절은 통째로 뺄 것이기 때문이다. \n",
    "                        position=[i,j,k]+list(hs)\n",
    "                        current=np.reshape(np.array(position),(1,-1))\n",
    "                        current=pd.DataFrame(current,columns=['mundan_id','sent_id','eojeol_id','vocab','pos'])\n",
    "                        word_dict=pd.concat((word_dict,current),axis=0)\n",
    "\n",
    "                \n",
    "\n",
    "        return word_dict\n",
    "\n",
    "\n",
    "    def preprocessFiles(self,stoppath):\n",
    "        self.setStopwords(stoppath)\n",
    "        #new passage object with words-->words & PoS tuples / only NNG, VV\n",
    "        for d in self.data:\n",
    "            word_PoS_pos=self.preprocessFile(d)\n",
    "            #품사,stopwords 필터, 재정렬\n",
    "            filtered=word_PoS_pos[(word_PoS_pos.pos=='NNG')|(word_PoS_pos.pos=='VV')&(~word_PoS_pos['vocab'].isin(list(self.stopwords.vocab)))].reset_index()\n",
    "            self.parsedData.append(filtered)\n",
    "        return self.parsedData\n",
    "    \n",
    "    def doAll(self):\n",
    "        dirname=input('dirname of jsonobj directory')\n",
    "        stoppath=input('dirname of stopwords txt')\n",
    "        self.organizeFiles(dirname)\n",
    "        self.preprocessFiles(stoppath)\n",
    "\n",
    "\n"
   ]
  },
  {
   "cell_type": "code",
   "execution_count": 113,
   "metadata": {},
   "outputs": [
    {
     "name": "stdout",
     "output_type": "stream",
     "text": [
      "   vocab  pos mundan_id sent_id eojeol_id\n",
      "0     선거  NNG         0       0         1\n",
      "0     개혁  NNG         0       0         1\n",
      "0      도   JX         0       0         1\n",
      "0     유사  NNG         0       0         2\n",
      "0      하  XSV         0       0         2\n",
      "..   ...  ...       ...     ...       ...\n",
      "0     한계  NNG         0       4        13\n",
      "0      를  JKO         0       4        13\n",
      "0      갖   VV         0       4        14\n",
      "0      는  EPT         0       4        14\n",
      "0      다  EFN         0       4        14\n",
      "\n",
      "[199 rows x 5 columns]\n"
     ]
    }
   ],
   "source": [
    "#test\n",
    "parser=ParseText()\n",
    "jsons=parser.openAllJson(\"./2020-02-019.도서자료요약_Sample\")\n",
    "organized_file=parser.organizeFile(jsons[-1])\n",
    "organized_files=parser.organizeFiles(\"./2020-02-019.도서자료요약_Sample\")\n",
    "parser.setStopwords(\"stopwords.txt\")\n",
    "parser.stopwords['vocab'].head(5)\n",
    "di=parser.preprocessFile(parser.data[0])\n"
   ]
  },
  {
   "cell_type": "code",
   "execution_count": 114,
   "metadata": {},
   "outputs": [
    {
     "ename": "KeyboardInterrupt",
     "evalue": "",
     "output_type": "error",
     "traceback": [
      "\u001b[1;31m---------------------------------------------------------------------------\u001b[0m",
      "\u001b[1;31mKeyboardInterrupt\u001b[0m                         Traceback (most recent call last)",
      "\u001b[1;32m~\\AppData\\Local\\Temp/ipykernel_3972/2762611440.py\u001b[0m in \u001b[0;36m<module>\u001b[1;34m\u001b[0m\n\u001b[1;32m----> 1\u001b[1;33m \u001b[0ma\u001b[0m\u001b[1;33m=\u001b[0m\u001b[0mparser\u001b[0m\u001b[1;33m.\u001b[0m\u001b[0mpreprocessFiles\u001b[0m\u001b[1;33m(\u001b[0m\u001b[1;34m\"stopwords.txt\"\u001b[0m\u001b[1;33m)\u001b[0m\u001b[1;33m\u001b[0m\u001b[1;33m\u001b[0m\u001b[0m\n\u001b[0m",
      "\u001b[1;32m~\\AppData\\Local\\Temp/ipykernel_3972/1719253096.py\u001b[0m in \u001b[0;36mpreprocessFiles\u001b[1;34m(self, stoppath)\u001b[0m\n\u001b[0;32m     57\u001b[0m         \u001b[1;31m#new passage object with words-->words & PoS tuples / only NNG, VV\u001b[0m\u001b[1;33m\u001b[0m\u001b[1;33m\u001b[0m\u001b[1;33m\u001b[0m\u001b[0m\n\u001b[0;32m     58\u001b[0m         \u001b[1;32mfor\u001b[0m \u001b[0md\u001b[0m \u001b[1;32min\u001b[0m \u001b[0mself\u001b[0m\u001b[1;33m.\u001b[0m\u001b[0mdata\u001b[0m\u001b[1;33m:\u001b[0m\u001b[1;33m\u001b[0m\u001b[1;33m\u001b[0m\u001b[0m\n\u001b[1;32m---> 59\u001b[1;33m             \u001b[0mword_PoS_pos\u001b[0m\u001b[1;33m=\u001b[0m\u001b[0mself\u001b[0m\u001b[1;33m.\u001b[0m\u001b[0mpreprocessFile\u001b[0m\u001b[1;33m(\u001b[0m\u001b[0md\u001b[0m\u001b[1;33m)\u001b[0m\u001b[1;33m\u001b[0m\u001b[1;33m\u001b[0m\u001b[0m\n\u001b[0m\u001b[0;32m     60\u001b[0m             \u001b[1;31m#품사,stopwords 필터, 재정렬\u001b[0m\u001b[1;33m\u001b[0m\u001b[1;33m\u001b[0m\u001b[1;33m\u001b[0m\u001b[0m\n\u001b[0;32m     61\u001b[0m             \u001b[0mfiltered\u001b[0m\u001b[1;33m=\u001b[0m\u001b[0mword_PoS_pos\u001b[0m\u001b[1;33m[\u001b[0m\u001b[1;33m(\u001b[0m\u001b[0mword_PoS_pos\u001b[0m\u001b[1;33m.\u001b[0m\u001b[0mpos\u001b[0m\u001b[1;33m==\u001b[0m\u001b[1;34m'NNG'\u001b[0m\u001b[1;33m)\u001b[0m\u001b[1;33m|\u001b[0m\u001b[1;33m(\u001b[0m\u001b[0mword_PoS_pos\u001b[0m\u001b[1;33m.\u001b[0m\u001b[0mpos\u001b[0m\u001b[1;33m==\u001b[0m\u001b[1;34m'VV'\u001b[0m\u001b[1;33m)\u001b[0m\u001b[1;33m&\u001b[0m\u001b[1;33m(\u001b[0m\u001b[1;33m~\u001b[0m\u001b[0mword_PoS_pos\u001b[0m\u001b[1;33m[\u001b[0m\u001b[1;34m'vocab'\u001b[0m\u001b[1;33m]\u001b[0m\u001b[1;33m.\u001b[0m\u001b[0misin\u001b[0m\u001b[1;33m(\u001b[0m\u001b[0mlist\u001b[0m\u001b[1;33m(\u001b[0m\u001b[0mself\u001b[0m\u001b[1;33m.\u001b[0m\u001b[0mstopwords\u001b[0m\u001b[1;33m.\u001b[0m\u001b[0mvocab\u001b[0m\u001b[1;33m)\u001b[0m\u001b[1;33m)\u001b[0m\u001b[1;33m)\u001b[0m\u001b[1;33m]\u001b[0m\u001b[1;33m.\u001b[0m\u001b[0mreset_index\u001b[0m\u001b[1;33m(\u001b[0m\u001b[1;33m)\u001b[0m\u001b[1;33m\u001b[0m\u001b[1;33m\u001b[0m\u001b[0m\n",
      "\u001b[1;32m~\\AppData\\Local\\Temp/ipykernel_3972/1719253096.py\u001b[0m in \u001b[0;36mpreprocessFile\u001b[1;34m(self, data)\u001b[0m\n\u001b[0;32m     41\u001b[0m             \u001b[1;32mfor\u001b[0m \u001b[0mj\u001b[0m\u001b[1;33m,\u001b[0m \u001b[0msent\u001b[0m \u001b[1;32min\u001b[0m \u001b[0menumerate\u001b[0m\u001b[1;33m(\u001b[0m\u001b[0mmundan\u001b[0m\u001b[1;33m.\u001b[0m\u001b[0msplit\u001b[0m\u001b[1;33m(\u001b[0m\u001b[1;34m'.'\u001b[0m\u001b[1;33m)\u001b[0m\u001b[1;33m)\u001b[0m\u001b[1;33m:\u001b[0m\u001b[1;31m#j 는 n번째 문장이라는 뜻\u001b[0m\u001b[1;33m\u001b[0m\u001b[1;33m\u001b[0m\u001b[0m\n\u001b[0;32m     42\u001b[0m                 \u001b[1;32mfor\u001b[0m \u001b[0mk\u001b[0m\u001b[1;33m,\u001b[0m \u001b[0mword\u001b[0m \u001b[1;32min\u001b[0m \u001b[0menumerate\u001b[0m\u001b[1;33m(\u001b[0m\u001b[0msent\u001b[0m\u001b[1;33m.\u001b[0m\u001b[0msplit\u001b[0m\u001b[1;33m(\u001b[0m\u001b[1;34m' '\u001b[0m\u001b[1;33m)\u001b[0m\u001b[1;33m)\u001b[0m\u001b[1;33m:\u001b[0m\u001b[1;31m#k는 n번째 어절이라는 뜻\u001b[0m\u001b[1;33m\u001b[0m\u001b[1;33m\u001b[0m\u001b[0m\n\u001b[1;32m---> 43\u001b[1;33m                     \u001b[0mpassage_hs\u001b[0m\u001b[1;33m=\u001b[0m\u001b[0mkkma\u001b[0m\u001b[1;33m.\u001b[0m\u001b[0mpos\u001b[0m\u001b[1;33m(\u001b[0m\u001b[0mword\u001b[0m\u001b[1;33m)\u001b[0m \u001b[1;31m#list in list\u001b[0m\u001b[1;33m\u001b[0m\u001b[1;33m\u001b[0m\u001b[0m\n\u001b[0m\u001b[0;32m     44\u001b[0m                     \u001b[1;32mfor\u001b[0m \u001b[0mhs\u001b[0m \u001b[1;32min\u001b[0m \u001b[0mpassage_hs\u001b[0m\u001b[1;33m:\u001b[0m \u001b[1;31m#어절 내부의 위치는 기록하지 않는다. 어절은 통째로 뺄 것이기 때문이다.\u001b[0m\u001b[1;33m\u001b[0m\u001b[1;33m\u001b[0m\u001b[0m\n\u001b[0;32m     45\u001b[0m                         \u001b[0mposition\u001b[0m\u001b[1;33m=\u001b[0m\u001b[1;33m[\u001b[0m\u001b[0mi\u001b[0m\u001b[1;33m,\u001b[0m\u001b[0mj\u001b[0m\u001b[1;33m,\u001b[0m\u001b[0mk\u001b[0m\u001b[1;33m]\u001b[0m\u001b[1;33m+\u001b[0m\u001b[0mlist\u001b[0m\u001b[1;33m(\u001b[0m\u001b[0mhs\u001b[0m\u001b[1;33m)\u001b[0m\u001b[1;33m\u001b[0m\u001b[1;33m\u001b[0m\u001b[0m\n",
      "\u001b[1;32mc:\\Users\\Heeyo\\AppData\\Local\\Programs\\Python\\Python39\\lib\\site-packages\\konlpy\\tag\\_kkma.py\u001b[0m in \u001b[0;36mpos\u001b[1;34m(self, phrase, flatten, join)\u001b[0m\n\u001b[0;32m     64\u001b[0m         \u001b[0mvalidate_phrase_inputs\u001b[0m\u001b[1;33m(\u001b[0m\u001b[0mphrase\u001b[0m\u001b[1;33m)\u001b[0m\u001b[1;33m\u001b[0m\u001b[1;33m\u001b[0m\u001b[0m\n\u001b[0;32m     65\u001b[0m \u001b[1;33m\u001b[0m\u001b[0m\n\u001b[1;32m---> 66\u001b[1;33m         \u001b[0msentences\u001b[0m \u001b[1;33m=\u001b[0m \u001b[0mself\u001b[0m\u001b[1;33m.\u001b[0m\u001b[0mjki\u001b[0m\u001b[1;33m.\u001b[0m\u001b[0mmorphAnalyzer\u001b[0m\u001b[1;33m(\u001b[0m\u001b[0mphrase\u001b[0m\u001b[1;33m)\u001b[0m\u001b[1;33m\u001b[0m\u001b[1;33m\u001b[0m\u001b[0m\n\u001b[0m\u001b[0;32m     67\u001b[0m         \u001b[0mmorphemes\u001b[0m \u001b[1;33m=\u001b[0m \u001b[1;33m[\u001b[0m\u001b[1;33m]\u001b[0m\u001b[1;33m\u001b[0m\u001b[1;33m\u001b[0m\u001b[0m\n\u001b[0;32m     68\u001b[0m         \u001b[1;32mif\u001b[0m \u001b[1;32mnot\u001b[0m \u001b[0msentences\u001b[0m\u001b[1;33m:\u001b[0m\u001b[1;33m\u001b[0m\u001b[1;33m\u001b[0m\u001b[0m\n",
      "\u001b[1;31mKeyboardInterrupt\u001b[0m: "
     ]
    }
   ],
   "source": [
    "a=parser.preprocessFiles(\"stopwords.txt\")"
   ]
  },
  {
   "cell_type": "code",
   "execution_count": null,
   "metadata": {},
   "outputs": [],
   "source": [
    "class TextRank:\n",
    "    def __init__(self):\n",
    "        pass\n",
    "    def makeEdge(self):\n",
    "        pass\n",
    "    def flip(self):\n",
    "        pass\n",
    "    def connectEdge(self):\n",
    "        pass\n",
    "    def returnBest(self,best_count):\n",
    "        pass"
   ]
  }
 ],
 "metadata": {
  "interpreter": {
   "hash": "b485adf93bff8ca269d5493edbedeaa1a759650bfde9cbea36fd7f7b559c92d8"
  },
  "kernelspec": {
   "display_name": "Python 3.9.6 64-bit",
   "language": "python",
   "name": "python3"
  },
  "language_info": {
   "codemirror_mode": {
    "name": "ipython",
    "version": 3
   },
   "file_extension": ".py",
   "mimetype": "text/x-python",
   "name": "python",
   "nbconvert_exporter": "python",
   "pygments_lexer": "ipython3",
   "version": "3.9.6"
  },
  "orig_nbformat": 4
 },
 "nbformat": 4,
 "nbformat_minor": 2
}
